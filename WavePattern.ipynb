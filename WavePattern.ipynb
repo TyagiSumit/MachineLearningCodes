{
 "cells": [
  {
   "cell_type": "markdown",
   "metadata": {},
   "source": [
    "## WavePattern"
   ]
  },
  {
   "cell_type": "code",
   "execution_count": 19,
   "metadata": {},
   "outputs": [
    {
     "name": "stdout",
     "output_type": "stream",
     "text": [
      "4 4\n",
      "1 2 3 4 5 6 7 8 9 10 11 12 13 14 15 16\n"
     ]
    },
    {
     "data": {
      "text/plain": [
       "[[1, 2, 3, 4], [5, 6, 7, 8], [9, 10, 11, 12], [13, 14, 15, 16]]"
      ]
     },
     "execution_count": 19,
     "metadata": {},
     "output_type": "execute_result"
    }
   ],
   "source": [
    "t = input().strip().split()\n",
    "n = int(t[0])\n",
    "m = int(t[1])\n",
    "\n",
    "l = [int(i) for i in input().strip().split()]\n",
    "l = l[:m*n]\n",
    "out2 = [[l[i*m + j] for j in range(m)] for i in range(n)]\n",
    "out2"
   ]
  },
  {
   "cell_type": "code",
   "execution_count": 20,
   "metadata": {},
   "outputs": [
    {
     "name": "stdout",
     "output_type": "stream",
     "text": [
      "1 2 3 4 \n",
      "5 6 7 8 \n",
      "9 10 11 12 \n",
      "13 14 15 16 \n"
     ]
    }
   ],
   "source": [
    "n = len(out2)\n",
    "m = len(out2[0])\n",
    "for i in range(n):\n",
    "    for j in range(m):\n",
    "        print(out2[i][j],end=\" \")\n",
    "    print()"
   ]
  },
  {
   "cell_type": "code",
   "execution_count": 21,
   "metadata": {},
   "outputs": [
    {
     "name": "stdout",
     "output_type": "stream",
     "text": [
      "1 5 9 13 14 10 6 2 3 7 11 15 16 12 8 4 "
     ]
    }
   ],
   "source": [
    "n = len(out2)\n",
    "m = len(out2[0])\n",
    "for i in range(m):\n",
    "    if i%2 == 0:\n",
    "        for j in range(n):\n",
    "            print(out2[j][i],end=\" \")\n",
    "    else:\n",
    "        for j in range(n-1,-1,-1):\n",
    "            print(out2[j][i],end=\" \")\n",
    "    "
   ]
  },
  {
   "cell_type": "code",
   "execution_count": null,
   "metadata": {},
   "outputs": [],
   "source": [
    "while(x = out2[])"
   ]
  }
 ],
 "metadata": {
  "kernelspec": {
   "display_name": "Python 3",
   "language": "python",
   "name": "python3"
  },
  "language_info": {
   "codemirror_mode": {
    "name": "ipython",
    "version": 3
   },
   "file_extension": ".py",
   "mimetype": "text/x-python",
   "name": "python",
   "nbconvert_exporter": "python",
   "pygments_lexer": "ipython3",
   "version": "3.7.0"
  }
 },
 "nbformat": 4,
 "nbformat_minor": 2
}
