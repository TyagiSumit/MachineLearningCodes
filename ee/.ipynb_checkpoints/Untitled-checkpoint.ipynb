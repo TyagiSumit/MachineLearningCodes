{
 "cells": [
  {
   "cell_type": "code",
   "execution_count": 59,
   "metadata": {},
   "outputs": [
    {
     "data": {
      "text/plain": [
       "['test.csv',\n",
       " 'Readme.txt',\n",
       " '.ipynb_checkpoints',\n",
       " 'train.csv',\n",
       " 'Untitled.ipynb',\n",
       " 'data.csv']"
      ]
     },
     "execution_count": 59,
     "metadata": {},
     "output_type": "execute_result"
    }
   ],
   "source": [
    "import numpy as np\n",
    "import pandas as pd\n",
    "from sklearn import preprocessing\n",
    "from sklearn import model_selection\n",
    "import os\n",
    "os.listdir()"
   ]
  },
  {
   "cell_type": "code",
   "execution_count": 60,
   "metadata": {},
   "outputs": [],
   "source": [
    "test = np.loadtxt(\"test.csv\", delimiter= \",\")\n",
    "train = np.loadtxt(\"train.csv\", delimiter= \",\")"
   ]
  },
  {
   "cell_type": "code",
   "execution_count": 89,
   "metadata": {},
   "outputs": [
    {
     "name": "stdout",
     "output_type": "stream",
     "text": [
      "[288.09   290.985  288.9675 ... 293.31   288.06   287.7   ]\n",
      "[290.6125 286.1625 296.63   ... 297.8875 286.39   296.5125]\n"
     ]
    }
   ],
   "source": [
    "X_train = train[:,:4]\n",
    "Y_train = train[:,4]\n",
    "X_train\n",
    "print(X_train.mean(axis = 1))\n",
    "print(test.mean(axis =1))"
   ]
  },
  {
   "cell_type": "code",
   "execution_count": 90,
   "metadata": {},
   "outputs": [],
   "source": [
    "scaler = preprocessing.StandardScaler()\n",
    "scaler.fit(X_train)\n",
    "X_train= scaler.transform(X_train)\n",
    "test = scaler.transform(test)"
   ]
  },
  {
   "cell_type": "code",
   "execution_count": 97,
   "metadata": {},
   "outputs": [
    {
     "name": "stdout",
     "output_type": "stream",
     "text": [
      "-5.624498760951898e-14\n",
      "[-0.01513866 -0.44882998  0.4273906  ...  0.53470528 -0.2030995\n",
      "  0.62877574]\n"
     ]
    }
   ],
   "source": [
    "print(X_train.mean(axis = 1))\n",
    "print(test.mean(axis =1))"
   ]
  },
  {
   "cell_type": "code",
   "execution_count": 98,
   "metadata": {},
   "outputs": [
    {
     "data": {
      "text/plain": [
       "1.0000000000000002"
      ]
     },
     "execution_count": 98,
     "metadata": {},
     "output_type": "execute_result"
    }
   ],
   "source": [
    "X_train.std()"
   ]
  },
  {
   "cell_type": "code",
   "execution_count": 92,
   "metadata": {},
   "outputs": [
    {
     "data": {
      "text/html": [
       "<div>\n",
       "<style scoped>\n",
       "    .dataframe tbody tr th:only-of-type {\n",
       "        vertical-align: middle;\n",
       "    }\n",
       "\n",
       "    .dataframe tbody tr th {\n",
       "        vertical-align: top;\n",
       "    }\n",
       "\n",
       "    .dataframe thead th {\n",
       "        text-align: right;\n",
       "    }\n",
       "</style>\n",
       "<table border=\"1\" class=\"dataframe\">\n",
       "  <thead>\n",
       "    <tr style=\"text-align: right;\">\n",
       "      <th></th>\n",
       "      <th>0</th>\n",
       "      <th>1</th>\n",
       "      <th>2</th>\n",
       "      <th>3</th>\n",
       "    </tr>\n",
       "  </thead>\n",
       "  <tbody>\n",
       "    <tr>\n",
       "      <th>count</th>\n",
       "      <td>7.176000e+03</td>\n",
       "      <td>7.176000e+03</td>\n",
       "      <td>7.176000e+03</td>\n",
       "      <td>7.176000e+03</td>\n",
       "    </tr>\n",
       "    <tr>\n",
       "      <th>mean</th>\n",
       "      <td>-1.942302e-15</td>\n",
       "      <td>-2.070379e-14</td>\n",
       "      <td>-1.895690e-13</td>\n",
       "      <td>-1.273294e-14</td>\n",
       "    </tr>\n",
       "    <tr>\n",
       "      <th>std</th>\n",
       "      <td>1.000070e+00</td>\n",
       "      <td>1.000070e+00</td>\n",
       "      <td>1.000070e+00</td>\n",
       "      <td>1.000070e+00</td>\n",
       "    </tr>\n",
       "    <tr>\n",
       "      <th>min</th>\n",
       "      <td>-2.383992e+00</td>\n",
       "      <td>-2.268772e+00</td>\n",
       "      <td>-3.415745e+00</td>\n",
       "      <td>-3.262827e+00</td>\n",
       "    </tr>\n",
       "    <tr>\n",
       "      <th>25%</th>\n",
       "      <td>-8.240709e-01</td>\n",
       "      <td>-9.841242e-01</td>\n",
       "      <td>-7.130639e-01</td>\n",
       "      <td>-6.888175e-01</td>\n",
       "    </tr>\n",
       "    <tr>\n",
       "      <th>50%</th>\n",
       "      <td>9.168063e-02</td>\n",
       "      <td>-1.755335e-01</td>\n",
       "      <td>-5.918944e-02</td>\n",
       "      <td>1.107203e-01</td>\n",
       "    </tr>\n",
       "    <tr>\n",
       "      <th>75%</th>\n",
       "      <td>8.147832e-01</td>\n",
       "      <td>9.608855e-01</td>\n",
       "      <td>6.772576e-01</td>\n",
       "      <td>7.965757e-01</td>\n",
       "    </tr>\n",
       "    <tr>\n",
       "      <th>max</th>\n",
       "      <td>2.159312e+00</td>\n",
       "      <td>2.138871e+00</td>\n",
       "      <td>3.359400e+00</td>\n",
       "      <td>1.838351e+00</td>\n",
       "    </tr>\n",
       "  </tbody>\n",
       "</table>\n",
       "</div>"
      ],
      "text/plain": [
       "                  0             1             2             3\n",
       "count  7.176000e+03  7.176000e+03  7.176000e+03  7.176000e+03\n",
       "mean  -1.942302e-15 -2.070379e-14 -1.895690e-13 -1.273294e-14\n",
       "std    1.000070e+00  1.000070e+00  1.000070e+00  1.000070e+00\n",
       "min   -2.383992e+00 -2.268772e+00 -3.415745e+00 -3.262827e+00\n",
       "25%   -8.240709e-01 -9.841242e-01 -7.130639e-01 -6.888175e-01\n",
       "50%    9.168063e-02 -1.755335e-01 -5.918944e-02  1.107203e-01\n",
       "75%    8.147832e-01  9.608855e-01  6.772576e-01  7.965757e-01\n",
       "max    2.159312e+00  2.138871e+00  3.359400e+00  1.838351e+00"
      ]
     },
     "execution_count": 92,
     "metadata": {},
     "output_type": "execute_result"
    }
   ],
   "source": []
  },
  {
   "cell_type": "code",
   "execution_count": null,
   "metadata": {},
   "outputs": [],
   "source": []
  }
 ],
 "metadata": {
  "kernelspec": {
   "display_name": "Python 3",
   "language": "python",
   "name": "python3"
  },
  "language_info": {
   "codemirror_mode": {
    "name": "ipython",
    "version": 3
   },
   "file_extension": ".py",
   "mimetype": "text/x-python",
   "name": "python",
   "nbconvert_exporter": "python",
   "pygments_lexer": "ipython3",
   "version": "3.7.0"
  }
 },
 "nbformat": 4,
 "nbformat_minor": 2
}
