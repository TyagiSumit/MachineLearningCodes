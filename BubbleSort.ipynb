{
 "cells": [
  {
   "cell_type": "code",
   "execution_count": 4,
   "metadata": {},
   "outputs": [
    {
     "name": "stdout",
     "output_type": "stream",
     "text": [
      "1 2 3 4\n",
      "1 2 3 4\n",
      "[1, 2, 3, 4]\n"
     ]
    }
   ],
   "source": [
    "t = input()\n",
    "print(t)\n",
    "arr = [ int(i) for i in t.strip().split() ]\n",
    "print(arr)"
   ]
  },
  {
   "cell_type": "code",
   "execution_count": 6,
   "metadata": {},
   "outputs": [
    {
     "name": "stdout",
     "output_type": "stream",
     "text": [
      "8 \n",
      "8\n",
      "3 4 2 6 1 8 2 3 4 \n",
      "1 2 2 3 3 4 6 8 "
     ]
    }
   ],
   "source": [
    "n = int(input())\n",
    "print(n)\n",
    "t = [int(i) for i in input().strip().split()][:n]\n",
    "for i in range(len(t)):\n",
    "  min = t[i]\n",
    "  y = i\n",
    "  for k in range(i+1,len(t)):\n",
    "    if t[k]<min:\n",
    "      y = k\n",
    "      min = t[k]\n",
    "  temp = t[y]\n",
    "  t[y] = t[i]\n",
    "  t[i] = temp\n",
    "for i in range(len(t)):\n",
    "  print(t[i], end=\" \")"
   ]
  },
  {
   "cell_type": "code",
   "execution_count": null,
   "metadata": {},
   "outputs": [],
   "source": []
  }
 ],
 "metadata": {
  "kernelspec": {
   "display_name": "Python 3",
   "language": "python",
   "name": "python3"
  },
  "language_info": {
   "codemirror_mode": {
    "name": "ipython",
    "version": 3
   },
   "file_extension": ".py",
   "mimetype": "text/x-python",
   "name": "python",
   "nbconvert_exporter": "python",
   "pygments_lexer": "ipython3",
   "version": "3.7.0"
  }
 },
 "nbformat": 4,
 "nbformat_minor": 2
}
