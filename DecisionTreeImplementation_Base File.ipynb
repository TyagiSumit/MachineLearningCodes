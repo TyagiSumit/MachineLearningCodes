{
 "cells": [
  {
   "cell_type": "code",
   "execution_count": 126,
   "metadata": {},
   "outputs": [],
   "source": [
    "from sklearn import datasets\n",
    "import pandas as pd\n",
    "import math\n",
    "from itertools import groupby"
   ]
  },
  {
   "cell_type": "code",
   "execution_count": 43,
   "metadata": {},
   "outputs": [],
   "source": [
    "iris = datasets.load_iris()"
   ]
  },
  {
   "cell_type": "code",
   "execution_count": 44,
   "metadata": {},
   "outputs": [],
   "source": [
    "df = pd.DataFrame(iris.data)\n",
    "df.columns = [\"sl\", \"sw\", 'pl', 'pw']"
   ]
  },
  {
   "cell_type": "code",
   "execution_count": 45,
   "metadata": {},
   "outputs": [],
   "source": [
    "#Function to find label for a value\n",
    "#if MIN_Value <=val < (m + Mean_Value) / 2 then it is assigned label a\n",
    "#if (m + Mean_Value) <=val < Mean_Value then it is assigned label b\n",
    "#if (Mean_Value) <=val < (Mean_Value + MAX_Value)/2 then it is assigned label c\n",
    "#if (Mean_Value + MAX_Value)/2 <=val <= MAX_Value  then it is assigned label d\n",
    "\n",
    "def label(val, *boundaries):\n",
    "    if (val < boundaries[0]):\n",
    "        return 'a'\n",
    "    elif (val < boundaries[1]):\n",
    "        return 'b'\n",
    "    elif (val < boundaries[2]):\n",
    "        return 'c'\n",
    "    else:\n",
    "        return 'd'\n",
    "\n",
    "#Function to convert a continuous data into labelled data\n",
    "#There are 4 lables  - a, b, c, d\n",
    "def toLabel(df, old_feature_name):\n",
    "    second = df[old_feature_name].mean()\n",
    "    minimum = df[old_feature_name].min()\n",
    "    first = (minimum + second)/2\n",
    "    maximum = df[old_feature_name].max()\n",
    "    third = (maximum + second)/2\n",
    "    return df[old_feature_name].apply(label, args= (first, second, third))"
   ]
  },
  {
   "cell_type": "code",
   "execution_count": 46,
   "metadata": {},
   "outputs": [
    {
     "data": {
      "text/html": [
       "<div>\n",
       "<style scoped>\n",
       "    .dataframe tbody tr th:only-of-type {\n",
       "        vertical-align: middle;\n",
       "    }\n",
       "\n",
       "    .dataframe tbody tr th {\n",
       "        vertical-align: top;\n",
       "    }\n",
       "\n",
       "    .dataframe thead th {\n",
       "        text-align: right;\n",
       "    }\n",
       "</style>\n",
       "<table border=\"1\" class=\"dataframe\">\n",
       "  <thead>\n",
       "    <tr style=\"text-align: right;\">\n",
       "      <th></th>\n",
       "      <th>sl</th>\n",
       "      <th>sw</th>\n",
       "      <th>pl</th>\n",
       "      <th>pw</th>\n",
       "      <th>sl_labeled</th>\n",
       "      <th>sw_labeled</th>\n",
       "      <th>pl_labeled</th>\n",
       "      <th>pw_labeled</th>\n",
       "    </tr>\n",
       "  </thead>\n",
       "  <tbody>\n",
       "    <tr>\n",
       "      <th>0</th>\n",
       "      <td>5.1</td>\n",
       "      <td>3.5</td>\n",
       "      <td>1.4</td>\n",
       "      <td>0.2</td>\n",
       "      <td>b</td>\n",
       "      <td>c</td>\n",
       "      <td>a</td>\n",
       "      <td>a</td>\n",
       "    </tr>\n",
       "    <tr>\n",
       "      <th>1</th>\n",
       "      <td>4.9</td>\n",
       "      <td>3.0</td>\n",
       "      <td>1.4</td>\n",
       "      <td>0.2</td>\n",
       "      <td>a</td>\n",
       "      <td>b</td>\n",
       "      <td>a</td>\n",
       "      <td>a</td>\n",
       "    </tr>\n",
       "    <tr>\n",
       "      <th>2</th>\n",
       "      <td>4.7</td>\n",
       "      <td>3.2</td>\n",
       "      <td>1.3</td>\n",
       "      <td>0.2</td>\n",
       "      <td>a</td>\n",
       "      <td>c</td>\n",
       "      <td>a</td>\n",
       "      <td>a</td>\n",
       "    </tr>\n",
       "    <tr>\n",
       "      <th>3</th>\n",
       "      <td>4.6</td>\n",
       "      <td>3.1</td>\n",
       "      <td>1.5</td>\n",
       "      <td>0.2</td>\n",
       "      <td>a</td>\n",
       "      <td>c</td>\n",
       "      <td>a</td>\n",
       "      <td>a</td>\n",
       "    </tr>\n",
       "    <tr>\n",
       "      <th>4</th>\n",
       "      <td>5.0</td>\n",
       "      <td>3.6</td>\n",
       "      <td>1.4</td>\n",
       "      <td>0.2</td>\n",
       "      <td>a</td>\n",
       "      <td>c</td>\n",
       "      <td>a</td>\n",
       "      <td>a</td>\n",
       "    </tr>\n",
       "  </tbody>\n",
       "</table>\n",
       "</div>"
      ],
      "text/plain": [
       "    sl   sw   pl   pw sl_labeled sw_labeled pl_labeled pw_labeled\n",
       "0  5.1  3.5  1.4  0.2          b          c          a          a\n",
       "1  4.9  3.0  1.4  0.2          a          b          a          a\n",
       "2  4.7  3.2  1.3  0.2          a          c          a          a\n",
       "3  4.6  3.1  1.5  0.2          a          c          a          a\n",
       "4  5.0  3.6  1.4  0.2          a          c          a          a"
      ]
     },
     "execution_count": 46,
     "metadata": {},
     "output_type": "execute_result"
    }
   ],
   "source": [
    "#Convert all columns to labelled data\n",
    "df['sl_labeled'] = toLabel(df, 'sl')\n",
    "df['sw_labeled'] = toLabel(df, 'sw')\n",
    "df['pl_labeled'] = toLabel(df, 'pl')\n",
    "df['pw_labeled'] = toLabel(df, 'pw')\n",
    "df.head()"
   ]
  },
  {
   "cell_type": "code",
   "execution_count": 47,
   "metadata": {},
   "outputs": [],
   "source": [
    "df.drop(['sl', 'sw', 'pl', 'pw'], axis = 1, inplace = True)"
   ]
  },
  {
   "cell_type": "code",
   "execution_count": 73,
   "metadata": {},
   "outputs": [
    {
     "data": {
      "text/plain": [
       "{'a', 'b', 'c', 'd'}"
      ]
     },
     "execution_count": 73,
     "metadata": {},
     "output_type": "execute_result"
    }
   ],
   "source": [
    "set(df['sl_labeled'])"
   ]
  },
  {
   "cell_type": "code",
   "execution_count": 190,
   "metadata": {},
   "outputs": [
    {
     "data": {
      "text/plain": [
       "array([0, 0, 0, 0, 0, 0, 0, 0, 0, 0, 2, 2])"
      ]
     },
     "execution_count": 190,
     "metadata": {},
     "output_type": "execute_result"
    }
   ],
   "source": [
    "iris.target[df.sw_labeled == \"d\"]"
   ]
  },
  {
   "cell_type": "code",
   "execution_count": 197,
   "metadata": {},
   "outputs": [],
   "source": [
    "def get_mistake(df, y, f):\n",
    "    possibe_values = set(df[f])\n",
    "    \n",
    "    mistake = 0\n",
    "    for value in possibe_values:\n",
    "        p = y[df[f] ==value].values.tolist()\n",
    "        if len(p) == 0:\n",
    "            continue\n",
    "        x = [len(list(group)) for key, group in groupby(p)]\n",
    "        mistake += sum(x)-max(x)\n",
    "    return mistake"
   ]
  },
  {
   "cell_type": "code",
   "execution_count": 214,
   "metadata": {},
   "outputs": [],
   "source": [
    "def build_tree(df, y, unused_features):\n",
    "    #base case\n",
    "    # 1. unused is empty\n",
    "    # 2. y contains only one distinct value\n",
    "    if len(unused_features) == 0:\n",
    "        return\n",
    "    if len(set(y.values.reshape(1,-1)[0])) == 1:\n",
    "        return\n",
    "    \n",
    "    best_feature = \"\"\n",
    "    min_mistake = math.inf\n",
    "    for f in unused_features:\n",
    "        mistake = get_mistake(df, y, f)\n",
    "        if mistake < min_mistake:\n",
    "            min_mistake = mistake\n",
    "            best_feature = f\n",
    "        # loop over possible values : val\n",
    "        # find subset of df & y with f == val\n",
    "        # find number of mistakes in this subset \n",
    "        # if we predict the most common y as the output\n",
    "        # find sum of all these mistakes\n",
    "        # update best feature so that that particular feature\n",
    "        # makes least number of mistakes\n",
    "    \n",
    "    # here you should know the best feature\n",
    "    # print it out\n",
    "    print(\"Best Feature \", best_feature)\n",
    "    unused_features.remove(best_feature)\n",
    "    possibe_values = set(df[f])\n",
    "    for value in possibe_values: \n",
    "        p = y[df[f] ==value]\n",
    "        x = df[df[f]==value]\n",
    "        \n",
    "        build_tree(x, p, unused_features)\n",
    "    \n",
    "    # remove best feature from unused features\n",
    "    # loop over possible values of best feature\n",
    "    # call build tree recursively"
   ]
  },
  {
   "cell_type": "code",
   "execution_count": 215,
   "metadata": {
    "scrolled": false
   },
   "outputs": [
    {
     "name": "stdout",
     "output_type": "stream",
     "text": [
      "(150, 1)\n",
      "32 sl_labeled a\n",
      "48 sl_labeled b\n",
      "53 sl_labeled c\n",
      "17 sl_labeled d\n",
      "55 sw_labeled c\n",
      "19 sw_labeled a\n",
      "64 sw_labeled b\n",
      "12 sw_labeled d\n",
      "56 pw_labeled c\n",
      "50 pw_labeled a\n",
      "10 pw_labeled b\n",
      "34 pw_labeled d\n",
      "63 pl_labeled c\n",
      "50 pl_labeled a\n",
      "7 pl_labeled b\n",
      "30 pl_labeled d\n",
      "Best Feature  pw_labeled\n",
      "end\n",
      "(63, 1)\n",
      "37 sl_labeled c\n",
      "1 sl_labeled a\n",
      "22 sl_labeled b\n",
      "3 sl_labeled d\n",
      "11 sw_labeled c\n",
      "12 sw_labeled a\n",
      "40 sw_labeled b\n",
      "63 pl_labeled c\n",
      "Best Feature  sl_labeled\n",
      "end\n",
      "(63, 1)\n",
      "11 sw_labeled c\n",
      "12 sw_labeled a\n",
      "40 sw_labeled b\n",
      "63 pl_labeled c\n",
      "Best Feature  sw_labeled\n",
      "end\n",
      "(63, 1)\n",
      "63 pl_labeled c\n",
      "Best Feature  pl_labeled\n",
      "end\n",
      "(63, 1)\n",
      "end\n",
      "(50, 1)\n",
      "end\n",
      "(7, 1)\n",
      "end\n",
      "(30, 1)\n"
     ]
    }
   ],
   "source": [
    "y = pd.DataFrame(iris.target)\n",
    "unused_features = set(df.columns)\n",
    "build_tree(df, y, unused_features)\n"
   ]
  },
  {
   "cell_type": "code",
   "execution_count": null,
   "metadata": {},
   "outputs": [],
   "source": []
  },
  {
   "cell_type": "code",
   "execution_count": null,
   "metadata": {},
   "outputs": [],
   "source": []
  },
  {
   "cell_type": "code",
   "execution_count": null,
   "metadata": {},
   "outputs": [],
   "source": []
  }
 ],
 "metadata": {
  "kernelspec": {
   "display_name": "Python 3",
   "language": "python",
   "name": "python3"
  },
  "language_info": {
   "codemirror_mode": {
    "name": "ipython",
    "version": 3
   },
   "file_extension": ".py",
   "mimetype": "text/x-python",
   "name": "python",
   "nbconvert_exporter": "python",
   "pygments_lexer": "ipython3",
   "version": "3.6.6"
  }
 },
 "nbformat": 4,
 "nbformat_minor": 1
}
