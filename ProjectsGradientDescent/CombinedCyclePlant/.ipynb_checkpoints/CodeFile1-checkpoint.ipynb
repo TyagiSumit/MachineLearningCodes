{
 "cells": [
  {
   "cell_type": "code",
   "execution_count": 2,
   "metadata": {},
   "outputs": [],
   "source": [
    "import numpy as np\n",
    "import pandas as pd\n",
    "from sklearn import model_selection"
   ]
  },
  {
   "cell_type": "code",
   "execution_count": 3,
   "metadata": {},
   "outputs": [
    {
     "data": {
      "text/plain": [
       "(2392, 5)"
      ]
     },
     "execution_count": 3,
     "metadata": {},
     "output_type": "execute_result"
    }
   ],
   "source": [
    "test_values=np.loadtxt(\"test.csv\",delimiter=',')\n",
    "#change if want to change anything in this \n",
    "\n",
    "\n",
    "#til this if any\n",
    "df=pd.DataFrame(test_values)\n",
    "df[4]=1\n",
    "finaltest=df.values\n",
    "finaltest.shape"
   ]
  },
  {
   "cell_type": "code",
   "execution_count": 4,
   "metadata": {},
   "outputs": [
    {
     "name": "stdout",
     "output_type": "stream",
     "text": [
      "[[   8.58   38.38 1021.03   84.37]\n",
      " [  21.79   58.2  1017.21   66.74]\n",
      " [  16.64   48.92 1011.55   78.76]\n",
      " ...\n",
      " [  29.8    69.34 1009.36   64.74]\n",
      " [  16.37   54.3  1017.94   63.63]\n",
      " [  30.11   62.04 1010.69   47.96]]\n"
     ]
    }
   ],
   "source": [
    "#for finding the train data \n",
    "\n",
    "train_inputs=np.loadtxt(\"train.csv\",delimiter=',')\n",
    "#print(train_inputs)\n",
    "y=train_inputs[:,train_inputs.shape[1]-1]\n",
    "x=train_inputs[:,0:train_inputs.shape[1]-1]\n",
    "\n",
    "print(x)\n",
    "#print(\"\\n************The output for training data is************ \\n\",y[0][0])\n"
   ]
  },
  {
   "cell_type": "code",
   "execution_count": 5,
   "metadata": {},
   "outputs": [
    {
     "data": {
      "text/plain": [
       "(7176, 5)"
      ]
     },
     "execution_count": 5,
     "metadata": {},
     "output_type": "execute_result"
    }
   ],
   "source": [
    "#printiing the values of x and y as a trained data\n",
    "#print(x,\"\\n\",y)\n",
    "#print('\\n',x.shape,\" \",y.shape)\n",
    "df=pd.DataFrame(x)\n",
    "df[4]=1\n",
    "x=df.values\n",
    "x.shape"
   ]
  },
  {
   "cell_type": "code",
   "execution_count": 6,
   "metadata": {},
   "outputs": [
    {
     "name": "stdout",
     "output_type": "stream",
     "text": [
      "       0      1        2      3  4\n",
      "0   8.58  38.38  1021.03  84.37  1\n",
      "1  21.79  58.20  1017.21  66.74  1\n",
      "2  16.64  48.92  1011.55  78.76  1\n",
      "3  31.38  71.32  1009.17  60.42  1\n",
      "4   9.20  40.03  1017.05  92.46  1\n",
      "[[0.]\n",
      " [0.]\n",
      " [0.]\n",
      " ...\n",
      " [0.]\n",
      " [0.]\n",
      " [0.]]\n"
     ]
    }
   ],
   "source": [
    "m_values=(np.zeros(x.shape[1])).reshape(-1,1)\n",
    "m_values\n",
    "print(df.head())\n",
    "print(np.dot(x,m_values))"
   ]
  },
  {
   "cell_type": "code",
   "execution_count": null,
   "metadata": {
    "collapsed": true
   },
   "outputs": [],
   "source": []
  },
  {
   "cell_type": "code",
   "execution_count": 97,
   "metadata": {},
   "outputs": [
    {
     "ename": "SyntaxError",
     "evalue": "unexpected EOF while parsing (<ipython-input-97-38676495f5d2>, line 2)",
     "output_type": "error",
     "traceback": [
      "\u001b[0;36m  File \u001b[0;32m\"<ipython-input-97-38676495f5d2>\"\u001b[0;36m, line \u001b[0;32m2\u001b[0m\n\u001b[0;31m    \u001b[0m\n\u001b[0m    ^\u001b[0m\n\u001b[0;31mSyntaxError\u001b[0m\u001b[0;31m:\u001b[0m unexpected EOF while parsing\n"
     ]
    }
   ],
   "source": [
    "def cof(x,y,final_m):"
   ]
  },
  {
   "cell_type": "code",
   "execution_count": 7,
   "metadata": {},
   "outputs": [],
   "source": [
    "def cost(x,y,m_values):\n",
    "    total=0\n",
    "    for i in range(len(x)):\n",
    "        total=total+(1/len(x))*( ( y[i] - ( np.dot( x[i,:],m_values ) ).sum() )**2 )\n",
    "        \n",
    "    return total "
   ]
  },
  {
   "cell_type": "code",
   "execution_count": 8,
   "metadata": {},
   "outputs": [],
   "source": [
    "def gd(rate,iteration,x,y):\n",
    "    m_values=(np.zeros(x.shape[1])).reshape(-1,1)\n",
    "    \n",
    "    for i in range(iteration):\n",
    "        m_values=single_gradient(rate,m_values,x,y)\n",
    "        print(i,\" cost is \",cost(x,y,m_values))\n",
    "        \n",
    "    return m_values"
   ]
  },
  {
   "cell_type": "code",
   "execution_count": 9,
   "metadata": {},
   "outputs": [],
   "source": [
    "def single_gradient(rate,m_values,x,y):\n",
    "    m_slope=(np.zeros(x.shape[1]).reshape(-1,1))\n",
    "    m=len(x)\n",
    "    \n",
    "    for i in range(len(x)):\n",
    "        row=x[i,:]\n",
    "        for j in range(len(m_values)):\n",
    "            m_slope[j]+=(-2/m)*(y[i]-np.dot(row,m_values).sum())*row[j]\n",
    "    \n",
    "    return m_values-rate*m_slope\n",
    "    "
   ]
  },
  {
   "cell_type": "code",
   "execution_count": 10,
   "metadata": {},
   "outputs": [],
   "source": [
    "def run():\n",
    "    rate=.000001\n",
    "    iteration=100\n",
    "    final_m=gd(rate,iteration,x,y)\n",
    "    \n",
    "    yfinal=np.zeros(len(finaltest))\n",
    "    yfinal=yfinal.reshape(-1,1)\n",
    "    \n",
    "    print(\" the value of final m is \\n\", final_m)\n",
    "    for i in range(len(finaltest)):\n",
    "        yfinal[i]=(np.dot(finaltest[i],final_m).sum())    \n",
    "        \n",
    "#coefficent( x,y,final_m)\n",
    "\n",
    "    np.savetxt(\"project1ans.csv\",yfinal,delimiter=',',fmt='%1.5f')"
   ]
  },
  {
   "cell_type": "code",
   "execution_count": 11,
   "metadata": {},
   "outputs": [
    {
     "name": "stdout",
     "output_type": "stream",
     "text": [
      "0  cost is  237116.9153476344\n",
      "1  cost is  271882.1255768481\n",
      "2  cost is  311750.0878720959\n",
      "3  cost is  357469.76702449785\n",
      "4  cost is  409900.0583638327\n",
      "5  cost is  470025.9229941026\n",
      "6  cost is  538976.8913048112\n",
      "7  cost is  618048.2823655471\n",
      "8  cost is  708725.5378320655\n",
      "9  cost is  812712.1275014827\n",
      "10  cost is  931961.5507511968\n",
      "11  cost is  1068714.0350415877\n",
      "12  cost is  1225538.6209019052\n",
      "13  cost is  1405381.424008927\n",
      "14  cost is  1611620.98101187\n",
      "15  cost is  1848131.718831461\n",
      "16  cost is  2119356.739769939\n",
      "17  cost is  2430391.2897751248\n",
      "18  cost is  2787078.477896192\n",
      "19  cost is  3196119.045120118\n",
      "20  cost is  3665197.2447092105\n",
      "21  cost is  4203125.198832523\n",
      "22  cost is  4820008.443378939\n",
      "23  cost is  5527435.7708826605\n",
      "24  cost is  6338696.937955714\n",
      "25  cost is  7269032.327087479\n",
      "26  cost is  8335919.252964732\n",
      "27  cost is  9559400.291872669\n",
      "28  cost is  10962459.802184315\n",
      "29  cost is  12571455.70926189\n",
      "30  cost is  14416614.666299786\n",
      "31  cost is  16532599.89321231\n",
      "32  cost is  18959162.361008305\n",
      "33  cost is  21741887.55482294\n",
      "34  cost is  24933051.844322123\n",
      "35  cost is  28592604.54927945\n",
      "36  cost is  32789294.149445612\n",
      "37  cost is  37601959.795716666\n",
      "38  cost is  43121012.38498806\n",
      "39  cost is  49450133.02219586\n",
      "40  cost is  56708220.77692018\n",
      "41  cost is  65031626.3251674\n",
      "42  cost is  74576713.43759647\n",
      "43  cost is  85522796.43438943\n",
      "44  cost is  98075508.78989837\n",
      "45  cost is  112470666.16975984\n",
      "46  cost is  128978696.47165348\n",
      "47  cost is  147909720.09256852\n",
      "48  cost is  169619375.86064398\n",
      "49  cost is  194515502.07775193\n",
      "50  cost is  223065798.18305367\n",
      "51  cost is  255806610.96988413\n",
      "52  cost is  293353010.4139903\n",
      "53  cost is  336410344.3980895\n",
      "54  cost is  385787489.40008235\n",
      "55  cost is  442412046.07283694\n",
      "56  cost is  507347765.18013495\n",
      "57  cost is  581814531.2531165\n",
      "58  cost is  667211279.3806434\n",
      "59  cost is  765142275.6493152\n",
      "60  cost is  877447254.9382288\n",
      "61  cost is  1006235982.2381996\n",
      "62  cost is  1153927886.7653344\n",
      "63  cost is  1323297513.4368575\n",
      "64  cost is  1517526645.5619655\n",
      "65  cost is  1740264077.9264238\n",
      "66  cost is  1995694163.1698816\n",
      "67  cost is  2288615419.170345\n",
      "68  cost is  2624530674.1569057\n",
      "69  cost is  3009750443.019424\n",
      "70  cost is  3451511476.8462224\n",
      "71  cost is  3958112712.764953\n",
      "72  cost is  4539071178.04481\n",
      "73  cost is  5205300777.280079\n",
      "74  cost is  5969317321.355774\n",
      "75  cost is  6845473649.877659\n",
      "76  cost is  7850229264.082698\n",
      "77  cost is  9002459535.564232\n",
      "78  cost is  10323810299.614918\n",
      "79  cost is  11839104494.591452\n",
      "80  cost is  13576808486.440685\n",
      "81  cost is  15569566838.774664\n",
      "82  cost is  17854815574.70202\n",
      "83  cost is  20475485451.173603\n",
      "84  cost is  23480808457.57692\n",
      "85  cost is  26927242689.48678\n",
      "86  cost is  30879532972.28119\n",
      "87  cost is  35411927159.53379\n",
      "88  cost is  40609570955.601494\n",
      "89  cost is  46570107465.589485\n",
      "90  cost is  53405511521.89672\n",
      "91  cost is  61244193247.05195\n",
      "92  cost is  70233410370.44215\n",
      "93  cost is  80542034616.80199\n",
      "94  cost is  92363724135.91164\n",
      "95  cost is  105920561570.88905\n",
      "96  cost is  121467226109.9384\n",
      "97  cost is  139295777897.83728\n",
      "98  cost is  159741144687.31317\n",
      "99  cost is  183187413802.66486\n",
      " the value of final m is \n",
      " [[-8.11855140e+00]\n",
      " [-2.24409081e+01]\n",
      " [-4.18398903e+02]\n",
      " [-3.02476283e+01]\n",
      " [-4.12916030e-01]]\n"
     ]
    }
   ],
   "source": [
    "run()"
   ]
  },
  {
   "cell_type": "code",
   "execution_count": null,
   "metadata": {
    "collapsed": true
   },
   "outputs": [],
   "source": []
  },
  {
   "cell_type": "code",
   "execution_count": 102,
   "metadata": {},
   "outputs": [],
   "source": []
  },
  {
   "cell_type": "code",
   "execution_count": null,
   "metadata": {
    "collapsed": true
   },
   "outputs": [],
   "source": []
  },
  {
   "cell_type": "code",
   "execution_count": null,
   "metadata": {
    "collapsed": true
   },
   "outputs": [],
   "source": []
  },
  {
   "cell_type": "code",
   "execution_count": null,
   "metadata": {
    "collapsed": true
   },
   "outputs": [],
   "source": []
  }
 ],
 "metadata": {
  "kernelspec": {
   "display_name": "Python 3",
   "language": "python",
   "name": "python3"
  },
  "language_info": {
   "codemirror_mode": {
    "name": "ipython",
    "version": 3
   },
   "file_extension": ".py",
   "mimetype": "text/x-python",
   "name": "python",
   "nbconvert_exporter": "python",
   "pygments_lexer": "ipython3",
   "version": "3.7.0"
  }
 },
 "nbformat": 4,
 "nbformat_minor": 2
}
