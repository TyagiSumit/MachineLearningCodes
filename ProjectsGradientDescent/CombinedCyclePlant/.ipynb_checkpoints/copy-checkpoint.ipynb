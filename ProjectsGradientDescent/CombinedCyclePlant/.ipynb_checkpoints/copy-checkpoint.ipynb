{
 "cells": [
  {
   "cell_type": "code",
   "execution_count": 1,
   "metadata": {},
   "outputs": [],
   "source": [
    "import numpy as np\n",
    "import pandas as pd\n",
    "import math"
   ]
  },
  {
   "cell_type": "code",
   "execution_count": 2,
   "metadata": {},
   "outputs": [],
   "source": [
    "def step_gradient(x, y, learning_rate, m):\n",
    "    k = x.shape[0]\n",
    "    n = x.shape[1]\n",
    "    #batch_size=50\n",
    "    #num_batches=math.ceil(k/batch_size)\n",
    "    #for b in range (num_batches):\n",
    "        #start=b*batch_size\n",
    "        #end=min((b+1)*batch_size,k)\n",
    "    slope_m = np.zeros((n, 1))\n",
    "    for j in range(n):\n",
    "            for i in range(k):\n",
    "                y_pred_i = np.dot(x[i], m)[0]\n",
    "                y_i = y[i][0]\n",
    "                slope_m[j][0] += (2/k)*x[i][j]*(y_pred_i - y_i)\n",
    "            #slope_m += (2/k) * x[i] * (m * x[i] + b - y[i])\n",
    "\n",
    "    new_m = m - learning_rate * slope_m\n",
    "    return new_m"
   ]
  },
  {
   "cell_type": "code",
   "execution_count": 3,
   "metadata": {},
   "outputs": [],
   "source": [
    "# running multiple iterations of step gradient\n",
    "def gradient_descent(x, y, learning_rate , num_iter):\n",
    "    m = np.zeros((x.shape[1], 1))\n",
    "   # print(\"Start : \", cost(x, y, m))\n",
    "    for i in range(num_iter):\n",
    "        m = step_gradient(x, y, learning_rate, m)\n",
    "        #if(i%(num_iter//10)==0):\n",
    "        #print(i,\":\",cost(x,y,m))\n",
    "    \n",
    "    #print(\"End : \", cost(x, y, m))\n",
    "    return m"
   ]
  },
  {
   "cell_type": "code",
   "execution_count": 4,
   "metadata": {},
   "outputs": [],
   "source": [
    "# data loading & calling gradient descent\n",
    "def run(x, y):\n",
    "    learning_rate = 0.001\n",
    "    num_iter = 20000\n",
    "    #batch_size=10\n",
    "    m = gradient_descent(x, y, learning_rate, num_iter)\n",
    "    return m"
   ]
  },
  {
   "cell_type": "code",
   "execution_count": 5,
   "metadata": {},
   "outputs": [],
   "source": [
    "dataset=pd.read_csv(\"train.csv\")\n",
    "x=dataset.iloc[:,:-1].values\n",
    "y=dataset.iloc[:,4].values\n",
    "x_test=np.genfromtxt(\"test.csv\",delimiter=\",\")"
   ]
  },
  {
   "cell_type": "code",
   "execution_count": 6,
   "metadata": {},
   "outputs": [],
   "source": [
    "b=np.ones((x.shape[0],1))\n",
    "b1=np.ones((x_test.shape[0],1))"
   ]
  },
  {
   "cell_type": "code",
   "execution_count": 7,
   "metadata": {},
   "outputs": [],
   "source": [
    "from sklearn.preprocessing import StandardScaler\n",
    "scaler=StandardScaler()\n",
    "scaler.fit(x)\n",
    "x_train_scaled=scaler.transform(x)\n",
    "x_test_scaled=scaler.transform(x_test)"
   ]
  },
  {
   "cell_type": "code",
   "execution_count": 8,
   "metadata": {},
   "outputs": [
    {
     "data": {
      "text/plain": [
       "'\"from sklearn.linear_model import LinearRegression\\nclf = LinearRegression()\\nclf.fit(x_train_scaled, y)\\ny_result=clf.predict(x_test_scaled)\\n#print(y_result.shape,y_result,x_test4.shape)\\nnp.savetxt(\"Y_predict_for_powerPlant.csv\",y_result,fmt=\\'%f\\',delimiter=\",\")'"
      ]
     },
     "execution_count": 8,
     "metadata": {},
     "output_type": "execute_result"
    }
   ],
   "source": [
    "\"\"\"\"from sklearn.linear_model import LinearRegression\n",
    "clf = LinearRegression()\n",
    "clf.fit(x_train_scaled, y)\n",
    "y_result=clf.predict(x_test_scaled)\n",
    "#print(y_result.shape,y_result,x_test4.shape)\n",
    "np.savetxt(\"Y_predict_for_powerPlant.csv\",y_result,fmt='%f',delimiter=\",\")\"\"\""
   ]
  },
  {
   "cell_type": "code",
   "execution_count": null,
   "metadata": {},
   "outputs": [],
   "source": [
    "x_train_scaled=np.hstack((x_train_scaled,b))\n",
    "x_test_scaled=np.hstack((x_test_scaled,b1))\n",
    "y=y.reshape((x.shape[0], 1))\n",
    "m= run(x_train_scaled, y)\n",
    "y_result=np.dot(x_test_scaled, m)\n",
    "np.savetxt(\"Y_predict_for_PP1.csv\",y_result,fmt='%f',delimiter=\",\")"
   ]
  },
  {
   "cell_type": "code",
   "execution_count": null,
   "metadata": {},
   "outputs": [],
   "source": []
  }
 ],
 "metadata": {
  "kernelspec": {
   "display_name": "Python 3",
   "language": "python",
   "name": "python3"
  },
  "language_info": {
   "codemirror_mode": {
    "name": "ipython",
    "version": 3
   },
   "file_extension": ".py",
   "mimetype": "text/x-python",
   "name": "python",
   "nbconvert_exporter": "python",
   "pygments_lexer": "ipython3",
   "version": "3.7.0"
  }
 },
 "nbformat": 4,
 "nbformat_minor": 2
}
