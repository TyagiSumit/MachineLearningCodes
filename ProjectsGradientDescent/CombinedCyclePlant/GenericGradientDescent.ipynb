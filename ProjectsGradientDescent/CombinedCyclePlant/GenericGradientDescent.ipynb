{
 "cells": [
  {
   "cell_type": "code",
   "execution_count": 1,
   "metadata": {},
   "outputs": [
    {
     "data": {
      "text/plain": [
       "'/home/sumit/Documents/MachineLearningCodes/ProjectsGradientDescent/CombinedCyclePlant'"
      ]
     },
     "execution_count": 1,
     "metadata": {},
     "output_type": "execute_result"
    }
   ],
   "source": [
    "import numpy as np\n",
    "import os\n",
    "import pandas as pd\n",
    "from sklearn import preprocessing\n",
    "\n",
    "\n",
    "scaler = preprocessing.StandardScaler()\n",
    "os.getcwd()"
   ]
  },
  {
   "cell_type": "code",
   "execution_count": 2,
   "metadata": {},
   "outputs": [
    {
     "data": {
      "text/html": [
       "<div>\n",
       "<style scoped>\n",
       "    .dataframe tbody tr th:only-of-type {\n",
       "        vertical-align: middle;\n",
       "    }\n",
       "\n",
       "    .dataframe tbody tr th {\n",
       "        vertical-align: top;\n",
       "    }\n",
       "\n",
       "    .dataframe thead th {\n",
       "        text-align: right;\n",
       "    }\n",
       "</style>\n",
       "<table border=\"1\" class=\"dataframe\">\n",
       "  <thead>\n",
       "    <tr style=\"text-align: right;\">\n",
       "      <th></th>\n",
       "      <th># T</th>\n",
       "      <th>V</th>\n",
       "      <th>AP</th>\n",
       "      <th>RH</th>\n",
       "      <th>EP</th>\n",
       "    </tr>\n",
       "  </thead>\n",
       "  <tbody>\n",
       "    <tr>\n",
       "      <th>count</th>\n",
       "      <td>7176.000000</td>\n",
       "      <td>7176.000000</td>\n",
       "      <td>7176.000000</td>\n",
       "      <td>7176.000000</td>\n",
       "      <td>7176.000000</td>\n",
       "    </tr>\n",
       "    <tr>\n",
       "      <th>mean</th>\n",
       "      <td>19.629712</td>\n",
       "      <td>54.288154</td>\n",
       "      <td>1013.263032</td>\n",
       "      <td>73.275818</td>\n",
       "      <td>454.431293</td>\n",
       "    </tr>\n",
       "    <tr>\n",
       "      <th>std</th>\n",
       "      <td>7.475256</td>\n",
       "      <td>12.751468</td>\n",
       "      <td>5.964863</td>\n",
       "      <td>14.625093</td>\n",
       "      <td>17.134571</td>\n",
       "    </tr>\n",
       "    <tr>\n",
       "      <th>min</th>\n",
       "      <td>1.810000</td>\n",
       "      <td>25.360000</td>\n",
       "      <td>992.890000</td>\n",
       "      <td>25.560000</td>\n",
       "      <td>420.260000</td>\n",
       "    </tr>\n",
       "    <tr>\n",
       "      <th>25%</th>\n",
       "      <td>13.470000</td>\n",
       "      <td>41.740000</td>\n",
       "      <td>1009.010000</td>\n",
       "      <td>63.202500</td>\n",
       "      <td>439.737500</td>\n",
       "    </tr>\n",
       "    <tr>\n",
       "      <th>50%</th>\n",
       "      <td>20.315000</td>\n",
       "      <td>52.050000</td>\n",
       "      <td>1012.910000</td>\n",
       "      <td>74.895000</td>\n",
       "      <td>451.740000</td>\n",
       "    </tr>\n",
       "    <tr>\n",
       "      <th>75%</th>\n",
       "      <td>25.720000</td>\n",
       "      <td>66.540000</td>\n",
       "      <td>1017.302500</td>\n",
       "      <td>84.925000</td>\n",
       "      <td>468.667500</td>\n",
       "    </tr>\n",
       "    <tr>\n",
       "      <th>max</th>\n",
       "      <td>35.770000</td>\n",
       "      <td>81.560000</td>\n",
       "      <td>1033.300000</td>\n",
       "      <td>100.160000</td>\n",
       "      <td>495.760000</td>\n",
       "    </tr>\n",
       "  </tbody>\n",
       "</table>\n",
       "</div>"
      ],
      "text/plain": [
       "               # T            V           AP           RH           EP\n",
       "count  7176.000000  7176.000000  7176.000000  7176.000000  7176.000000\n",
       "mean     19.629712    54.288154  1013.263032    73.275818   454.431293\n",
       "std       7.475256    12.751468     5.964863    14.625093    17.134571\n",
       "min       1.810000    25.360000   992.890000    25.560000   420.260000\n",
       "25%      13.470000    41.740000  1009.010000    63.202500   439.737500\n",
       "50%      20.315000    52.050000  1012.910000    74.895000   451.740000\n",
       "75%      25.720000    66.540000  1017.302500    84.925000   468.667500\n",
       "max      35.770000    81.560000  1033.300000   100.160000   495.760000"
      ]
     },
     "execution_count": 2,
     "metadata": {},
     "output_type": "execute_result"
    }
   ],
   "source": [
    "train = pd.read_csv(os.getcwd()+\"/train.csv\")\n",
    "train.describe()"
   ]
  },
  {
   "cell_type": "code",
   "execution_count": 3,
   "metadata": {},
   "outputs": [
    {
     "data": {
      "text/plain": [
       "(7176, 5)"
      ]
     },
     "execution_count": 3,
     "metadata": {},
     "output_type": "execute_result"
    }
   ],
   "source": [
    "train = np.loadtxt(os.getcwd()+\"/train.Hcsv\", delimiter= \",\")\n",
    "train.shape"
   ]
  },
  {
   "cell_type": "code",
   "execution_count": 4,
   "metadata": {},
   "outputs": [],
   "source": [
    "def step_gradient(X_train,Y_train, learning_rate, m):\n",
    "    m_slope = np.zeros([len(X_train[0])])\n",
    "    M = len(X_train)\n",
    "    N = len(X_train[0])\n",
    "    for i in range(M):\n",
    "        m_slope += (-2/M)*(Y_train[i] - ( X_train[i]*m).sum() )*X_train[i]\n",
    "        \n",
    "    new_m = m - learning_rate * m_slope\n",
    "    return new_m"
   ]
  },
  {
   "cell_type": "code",
   "execution_count": 5,
   "metadata": {},
   "outputs": [],
   "source": [
    "def gd(X_train, Y_train, learning_rate, num_iterations):\n",
    "    m = np.zeros(len(X_train[0]))\n",
    "    for i in range(num_iterations):\n",
    "        m = step_gradient(X_train, Y_train, learning_rate, m)\n",
    "        \n",
    "    return m"
   ]
  },
  {
   "cell_type": "code",
   "execution_count": 6,
   "metadata": {},
   "outputs": [],
   "source": [
    "def cost(X_train, Y_train, m):\n",
    "    total_cost = 0\n",
    "    M = len(X_train)\n",
    "    N = len(X_train[0])\n",
    "    for i in range(M):\n",
    "        x = X_train\n",
    "        y = Y_train\n",
    "        mxsum = 0\n",
    "        for j in range(N):\n",
    "            mxsum = mxsum + m[j]*x[i][j]\n",
    "        total_cost += (1/M) * ((y - mxsum)**2)\n",
    "    return total_cost"
   ]
  },
  {
   "cell_type": "code",
   "execution_count": 7,
   "metadata": {},
   "outputs": [],
   "source": [
    "def run():\n",
    "    train = np.loadtxt(os.getcwd()+\"/train.csv\", delimiter= \",\")\n",
    "    \n",
    "    \n",
    "    X_train = train[:,:4]\n",
    "    Y_train = train[:,4]\n",
    "    temp = np.ones((X_train.shape[0],X_train.shape[1]+1))\n",
    "    temp[:,:-1] = X_train\n",
    "    X_train = temp\n",
    "    scaler.fit(X_train)\n",
    "    scaler.transform(X_train)\n",
    "    learning_rate = 0.001\n",
    "    num_iterations = 500\n",
    "    \n",
    "    m = gd(X_train, Y_train, learning_rate, num_iterations)\n",
    "    print(cost(X_train, Y_train, m))\n",
    "    return m"
   ]
  },
  {
   "cell_type": "code",
   "execution_count": 8,
   "metadata": {},
   "outputs": [
    {
     "name": "stderr",
     "output_type": "stream",
     "text": [
      "/home/sumit/anaconda3/lib/python3.7/site-packages/ipykernel_launcher.py:6: RuntimeWarning: overflow encountered in add\n",
      "  \n",
      "/home/sumit/anaconda3/lib/python3.7/site-packages/ipykernel_launcher.py:8: RuntimeWarning: invalid value encountered in subtract\n",
      "  \n"
     ]
    },
    {
     "name": "stdout",
     "output_type": "stream",
     "text": [
      "[nan nan nan ... nan nan nan]\n"
     ]
    }
   ],
   "source": [
    "M_trained = run()"
   ]
  },
  {
   "cell_type": "code",
   "execution_count": 9,
   "metadata": {},
   "outputs": [],
   "source": [
    "def predict(X_test, m):\n",
    "    temp = np.ones((X_test.shape[0],X_test.shape[1]+1))\n",
    "    temp[:,:-1] = X_test\n",
    "    X_test = temp\n",
    "    scaler.transform(X_test)\n",
    "    \n",
    "    Y_pred = np.zeros(len(X_test))\n",
    "    \n",
    "    for i in range(len(X_test)):\n",
    "        Y_pred[i] = (X_test[i] * m).sum()\n",
    "    return Y_pred"
   ]
  },
  {
   "cell_type": "code",
   "execution_count": 10,
   "metadata": {},
   "outputs": [
    {
     "data": {
      "text/plain": [
       "array([nan, nan, nan, ..., nan, nan, nan])"
      ]
     },
     "execution_count": 10,
     "metadata": {},
     "output_type": "execute_result"
    }
   ],
   "source": [
    "test = np.loadtxt(os.getcwd()+\"/test.csv\", delimiter= \",\")\n",
    "Y_pred = predict(test, M_trained)\n",
    "Y_pred"
   ]
  },
  {
   "cell_type": "code",
   "execution_count": 11,
   "metadata": {},
   "outputs": [],
   "source": [
    "np.savetxt(\"prediction.csv\",Y_pred,delimiter=\",\")"
   ]
  },
  {
   "cell_type": "code",
   "execution_count": null,
   "metadata": {},
   "outputs": [],
   "source": []
  },
  {
   "cell_type": "code",
   "execution_count": null,
   "metadata": {},
   "outputs": [],
   "source": []
  }
 ],
 "metadata": {
  "kernelspec": {
   "display_name": "Python 3",
   "language": "python",
   "name": "python3"
  },
  "language_info": {
   "codemirror_mode": {
    "name": "ipython",
    "version": 3
   },
   "file_extension": ".py",
   "mimetype": "text/x-python",
   "name": "python",
   "nbconvert_exporter": "python",
   "pygments_lexer": "ipython3",
   "version": "3.7.0"
  }
 },
 "nbformat": 4,
 "nbformat_minor": 2
}
