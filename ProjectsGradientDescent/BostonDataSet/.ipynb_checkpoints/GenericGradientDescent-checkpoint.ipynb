{
 "cells": [
  {
   "cell_type": "code",
   "execution_count": 4,
   "metadata": {},
   "outputs": [
    {
     "data": {
      "text/plain": [
       "'/home/sumit/Documents/MachineLearningCodes'"
      ]
     },
     "execution_count": 4,
     "metadata": {},
     "output_type": "execute_result"
    }
   ],
   "source": [
    "import numpy as np\n",
    "import os \n",
    "os.getcwd()"
   ]
  },
  {
   "cell_type": "code",
   "execution_count": 34,
   "metadata": {},
   "outputs": [],
   "source": [
    "def step_gradient(points, learning_rate, m, c):\n",
    "    m_slope = 0\n",
    "    c_slope = 0\n",
    "    M = len(points)\n",
    "    for i in range(len(points)):\n",
    "        x = points[i, 0]\n",
    "        y = points[i, 1]\n",
    "        m_slope += (-2/M)*(y - m * x - c)*x\n",
    "        m_slope += (-2/M)*(y - m * x - c)\n",
    "    new_m = m - learning_rate * m_slope\n",
    "    new_c = c - learning_rate * c_slope\n",
    "    return new_m, new_c"
   ]
  },
  {
   "cell_type": "code",
   "execution_count": 35,
   "metadata": {},
   "outputs": [],
   "source": [
    "def gd(points, learning_rate, num_iterations):\n",
    "    m = 0\n",
    "    c = 0\n",
    "    for i in range(num_iterations):\n",
    "        m, c= step_gradient(points, learning_rate, m, c)\n",
    "        print(cost(points,m,c))\n",
    "    return m, c"
   ]
  },
  {
   "cell_type": "code",
   "execution_count": 36,
   "metadata": {},
   "outputs": [],
   "source": [
    "def cost(points, m, c):\n",
    "    total_cost = 0\n",
    "    M = len(points)\n",
    "    for i in range(M):\n",
    "        x = points[i, 0]\n",
    "        y = points[i, 1]\n",
    "        total_cost += (1/M) * ((y - m*x - c)**2)\n",
    "    return total_cost"
   ]
  },
  {
   "cell_type": "code",
   "execution_count": 51,
   "metadata": {},
   "outputs": [],
   "source": [
    "def run():\n",
    "    data = np.loadtxt(\"/home/sumit/Documents/MachineLearningCodes/GradientDescent/data.csv\", delimiter= \",\")\n",
    "    learning_rate = 0.0001\n",
    "    num_iterations = 100\n",
    "    m, c = gd(data, learning_rate, num_iterations)\n",
    "    print(m,c)"
   ]
  },
  {
   "cell_type": "code",
   "execution_count": 52,
   "metadata": {},
   "outputs": [
    {
     "name": "stdout",
     "output_type": "stream",
     "text": [
      "1432.3750709435183\n",
      "432.03496160785215\n",
      "189.92748531906938\n",
      "131.3450573222118\n",
      "117.17667303008653\n",
      "113.7533073196134\n",
      "112.92778471918903\n",
      "112.72951935859798\n",
      "112.68229922958267\n",
      "112.6712499521597\n",
      "112.66876297876844\n",
      "112.66825334994911\n",
      "112.66817544988334\n",
      "112.66817896421136\n",
      "112.66819082252208\n",
      "112.66819910907809\n",
      "112.66820377979519\n",
      "112.6682062215613\n",
      "112.6682074577359\n",
      "112.66820807437492\n",
      "112.66820837980974\n",
      "112.66820853058212\n",
      "112.66820860488403\n",
      "112.66820864147066\n",
      "112.66820865947885\n",
      "112.66820866834082\n",
      "112.66820867270157\n",
      "112.66820867484722\n",
      "112.66820867590285\n",
      "112.6682086764223\n",
      "112.66820867667782\n",
      "112.66820867680364\n",
      "112.66820867686549\n",
      "112.66820867689597\n",
      "112.66820867691094\n",
      "112.66820867691831\n",
      "112.66820867692192\n",
      "112.6682086769237\n",
      "112.66820867692452\n",
      "112.66820867692502\n",
      "112.6682086769252\n",
      "112.66820867692527\n",
      "112.66820867692535\n",
      "112.6682086769254\n",
      "112.66820867692543\n",
      "112.66820867692537\n",
      "112.66820867692545\n",
      "112.66820867692543\n",
      "112.66820867692539\n",
      "112.66820867692542\n",
      "112.66820867692545\n",
      "112.66820867692543\n",
      "112.66820867692543\n",
      "112.66820867692543\n",
      "112.66820867692543\n",
      "112.66820867692543\n",
      "112.66820867692543\n",
      "112.66820867692543\n",
      "112.66820867692543\n",
      "112.66820867692543\n",
      "112.66820867692543\n",
      "112.66820867692543\n",
      "112.66820867692543\n",
      "112.66820867692543\n",
      "112.66820867692543\n",
      "112.66820867692543\n",
      "112.66820867692543\n",
      "112.66820867692543\n",
      "112.66820867692543\n",
      "112.66820867692543\n",
      "112.66820867692543\n",
      "112.66820867692543\n",
      "112.66820867692543\n",
      "112.66820867692543\n",
      "112.66820867692543\n",
      "112.66820867692543\n",
      "112.66820867692543\n",
      "112.66820867692543\n",
      "112.66820867692543\n",
      "112.66820867692543\n",
      "112.66820867692543\n",
      "112.66820867692543\n",
      "112.66820867692543\n",
      "112.66820867692543\n",
      "112.66820867692543\n",
      "112.66820867692543\n",
      "112.66820867692543\n",
      "112.66820867692543\n",
      "112.66820867692543\n",
      "112.66820867692543\n",
      "112.66820867692543\n",
      "112.66820867692543\n",
      "112.66820867692543\n",
      "112.66820867692543\n",
      "112.66820867692543\n",
      "112.66820867692543\n",
      "112.66820867692543\n",
      "112.66820867692543\n",
      "112.66820867692543\n",
      "112.66820867692543\n",
      "1.4796085041906157 0.0\n"
     ]
    }
   ],
   "source": [
    "run()"
   ]
  },
  {
   "cell_type": "code",
   "execution_count": null,
   "metadata": {},
   "outputs": [],
   "source": []
  }
 ],
 "metadata": {
  "kernelspec": {
   "display_name": "Python 3",
   "language": "python",
   "name": "python3"
  },
  "language_info": {
   "codemirror_mode": {
    "name": "ipython",
    "version": 3
   },
   "file_extension": ".py",
   "mimetype": "text/x-python",
   "name": "python",
   "nbconvert_exporter": "python",
   "pygments_lexer": "ipython3",
   "version": "3.7.0"
  }
 },
 "nbformat": 4,
 "nbformat_minor": 2
}
