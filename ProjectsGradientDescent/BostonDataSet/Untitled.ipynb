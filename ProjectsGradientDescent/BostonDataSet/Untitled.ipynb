{
 "cells": [
  {
   "cell_type": "code",
   "execution_count": 7,
   "metadata": {
    "collapsed": true
   },
   "outputs": [],
   "source": [
    "from sklearn.datasets import load_boston"
   ]
  },
  {
   "cell_type": "code",
   "execution_count": 8,
   "metadata": {
    "collapsed": true
   },
   "outputs": [],
   "source": [
    "dst =  load_boston()\n",
    "dtt = dst.data\n",
    "x = dtt[:,0]\n",
    "x.shape\n",
    "y = dst.target"
   ]
  },
  {
   "cell_type": "code",
   "execution_count": 5,
   "metadata": {
    "collapsed": true
   },
   "outputs": [],
   "source": [
    "import numpy as np"
   ]
  },
  {
   "cell_type": "code",
   "execution_count": 6,
   "metadata": {
    "collapsed": true
   },
   "outputs": [],
   "source": [
    "def cost(x,y,m,b):\n",
    "    return ((y-m*x-b)**2).mean()"
   ]
  },
  {
   "cell_type": "code",
   "execution_count": null,
   "metadata": {
    "collapsed": true
   },
   "outputs": [],
   "source": []
  },
  {
   "cell_type": "code",
   "execution_count": 4,
   "metadata": {
    "collapsed": true
   },
   "outputs": [],
   "source": [
    "def step_gradient(x,y,m,b,learning_rate):\n",
    "    k = x.shape[0]\n",
    "    slope_m = 0\n",
    "    slope_b = 0\n",
    "    for i in range(k):\n",
    "        slope_m += (2/k) * x[i]*(m*x[i] + b - y[i])\n",
    "        slope_b += (2/k) * (m*x[i] + b - y[i])\n",
    "    new_m = m - learning_rate*slope_m\n",
    "    new_b = b - learning_rate*slope_b\n",
    "    return new_m,new_b"
   ]
  },
  {
   "cell_type": "code",
   "execution_count": 3,
   "metadata": {
    "collapsed": true
   },
   "outputs": [],
   "source": [
    "def gradient_descent(x,y,num_of_iter,learning_rate,initial_m,initial_b):\n",
    "    m = initial_m\n",
    "    b = initial_b\n",
    "    print(\"Start : \" , cost(x,y,m,b))\n",
    "    for i in range(num_of_iter):\n",
    "        m,b =  step_gradient(x,y,m,b,learning_rate)\n",
    "        print(i,\":\",cost(x,y,m,b))"
   ]
  },
  {
   "cell_type": "code",
   "execution_count": 16,
   "metadata": {
    "collapsed": true
   },
   "outputs": [],
   "source": [
    "def run():\n",
    "    dst =  load_boston()\n",
    "    dtt = dst.data\n",
    "    x = dtt[:,0]\n",
    "    x.shape\n",
    "    y = dst.target\n",
    "    learning_rate=1\n",
    "    initial_m=0\n",
    "    initial_b=0\n",
    "    num_of_iter=100\n",
    "    gradient_descent(x,y,100,0.00001,0,0)"
   ]
  },
  {
   "cell_type": "code",
   "execution_count": 17,
   "metadata": {},
   "outputs": [
    {
     "name": "stdout",
     "output_type": "stream",
     "text": [
      "Start :  592.1469169960474\n",
      "0 : 592.0245612903433\n",
      "1 : 591.9025729628033\n",
      "2 : 591.7809507405863\n",
      "3 : 591.6596933552668\n",
      "4 : 591.5387995428213\n",
      "5 : 591.4182680436122\n",
      "6 : 591.2980976023723\n",
      "7 : 591.1782869681906\n",
      "8 : 591.0588348944964\n",
      "9 : 590.9397401390447\n",
      "10 : 590.8210014639003\n",
      "11 : 590.7026176354243\n",
      "12 : 590.5845874242577\n",
      "13 : 590.4669096053083\n",
      "14 : 590.3495829577336\n",
      "15 : 590.2326062649278\n",
      "16 : 590.115978314507\n",
      "17 : 589.9996978982937\n",
      "18 : 589.883763812303\n",
      "19 : 589.768174856727\n",
      "20 : 589.6529298359218\n",
      "21 : 589.5380275583917\n",
      "22 : 589.4234668367761\n",
      "23 : 589.3092464878337\n",
      "24 : 589.1953653324287\n",
      "25 : 589.0818221955179\n",
      "26 : 588.9686159061343\n",
      "27 : 588.8557452973748\n",
      "28 : 588.7432092063848\n",
      "29 : 588.6310064743449\n",
      "30 : 588.5191359464566\n",
      "31 : 588.4075964719285\n",
      "32 : 588.2963869039625\n",
      "33 : 588.1855060997391\n",
      "34 : 588.0749529204052\n",
      "35 : 587.964726231059\n",
      "36 : 587.8548249007362\n",
      "37 : 587.7452478023978\n",
      "38 : 587.6359938129144\n",
      "39 : 587.527061813055\n",
      "40 : 587.4184506874709\n",
      "41 : 587.3101593246845\n",
      "42 : 587.2021866170745\n",
      "43 : 587.0945314608628\n",
      "44 : 586.9871927561019\n",
      "45 : 586.8801694066605\n",
      "46 : 586.7734603202105\n",
      "47 : 586.6670644082147\n",
      "48 : 586.5609805859128\n",
      "49 : 586.4552077723083\n",
      "50 : 586.3497448901558\n",
      "51 : 586.2445908659479\n",
      "52 : 586.1397446299018\n",
      "53 : 586.0352051159471\n",
      "54 : 585.9309712617126\n",
      "55 : 585.827042008513\n",
      "56 : 585.7234163013367\n",
      "57 : 585.6200930888331\n",
      "58 : 585.5170713232997\n",
      "59 : 585.4143499606688\n",
      "60 : 585.3119279604963\n",
      "61 : 585.2098042859476\n",
      "62 : 585.1079779037865\n",
      "63 : 585.0064477843615\n",
      "64 : 584.9052129015938\n",
      "65 : 584.8042722329658\n",
      "66 : 584.7036247595067\n",
      "67 : 584.6032694657824\n",
      "68 : 584.5032053398819\n",
      "69 : 584.4034313734054\n",
      "70 : 584.3039465614522\n",
      "71 : 584.2047499026083\n",
      "72 : 584.1058403989347\n",
      "73 : 584.007217055955\n",
      "74 : 583.9088788826439\n",
      "75 : 583.8108248914143\n",
      "76 : 583.7130540981059\n",
      "77 : 583.6155655219741\n",
      "78 : 583.5183581856766\n",
      "79 : 583.4214311152626\n",
      "80 : 583.3247833401609\n",
      "81 : 583.2284138931678\n",
      "82 : 583.132321810436\n",
      "83 : 583.0365061314627\n",
      "84 : 582.9409658990775\n",
      "85 : 582.8457001594315\n",
      "86 : 582.7507079619857\n",
      "87 : 582.655988359499\n",
      "88 : 582.5615404080179\n",
      "89 : 582.467363166863\n",
      "90 : 582.3734556986201\n",
      "91 : 582.2798170691274\n",
      "92 : 582.1864463474642\n",
      "93 : 582.0933426059403\n",
      "94 : 582.0005049200845\n",
      "95 : 581.907932368633\n",
      "96 : 581.8156240335196\n",
      "97 : 581.7235789998625\n",
      "98 : 581.6317963559552\n",
      "99 : 581.5402751932546\n"
     ]
    }
   ],
   "source": [
    "run()"
   ]
  },
  {
   "cell_type": "code",
   "execution_count": 31,
   "metadata": {
    "collapsed": true
   },
   "outputs": [],
   "source": []
  },
  {
   "cell_type": "code",
   "execution_count": 41,
   "metadata": {
    "collapsed": true
   },
   "outputs": [],
   "source": []
  }
 ],
 "metadata": {
  "kernelspec": {
   "display_name": "Python 3",
   "language": "python",
   "name": "python3"
  },
  "language_info": {
   "codemirror_mode": {
    "name": "ipython",
    "version": 3
   },
   "file_extension": ".py",
   "mimetype": "text/x-python",
   "name": "python",
   "nbconvert_exporter": "python",
   "pygments_lexer": "ipython3",
   "version": "3.7.0"
  }
 },
 "nbformat": 4,
 "nbformat_minor": 2
}
