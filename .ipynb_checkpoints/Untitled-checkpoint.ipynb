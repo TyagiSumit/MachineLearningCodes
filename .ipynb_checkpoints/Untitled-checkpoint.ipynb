{
 "cells": [
  {
   "cell_type": "markdown",
   "metadata": {},
   "source": [
    "## Intro to Jupyter \n",
    "we can writemarkdown or python code in our cels. you can choose accordingly in the dropdown"
   ]
  },
  {
   "cell_type": "code",
   "execution_count": 16,
   "metadata": {},
   "outputs": [
    {
     "name": "stdout",
     "output_type": "stream",
     "text": [
      "10 12\n"
     ]
    }
   ],
   "source": [
    "#print fucntion\n",
    "a = 10\n",
    "print(a,end=\" \")\n",
    "print(12)"
   ]
  },
  {
   "cell_type": "code",
   "execution_count": 7,
   "metadata": {},
   "outputs": [
    {
     "data": {
      "text/plain": [
       "30"
      ]
     },
     "execution_count": 7,
     "metadata": {},
     "output_type": "execute_result"
    }
   ],
   "source": [
    "#last line is output\n",
    "a = 10\n",
    "a + 201"
   ]
  },
  {
   "cell_type": "code",
   "execution_count": 24,
   "metadata": {},
   "outputs": [
    {
     "name": "stdout",
     "output_type": "stream",
     "text": [
      "<class 'int'> <class 'int'> <class 'complex'>\n"
     ]
    }
   ],
   "source": [
    "#var and type of number\n",
    "a = 12\n",
    "b =10\n",
    "c = 1 + 2j\n",
    "print(type(a),type(a),type(c))"
   ]
  },
  {
   "cell_type": "code",
   "execution_count": 28,
   "metadata": {},
   "outputs": [
    {
     "name": "stdout",
     "output_type": "stream",
     "text": [
      "(13+2j)\n",
      "2\n",
      "1.2\n",
      "1\n",
      "61917364224\n",
      "2\n"
     ]
    }
   ],
   "source": [
    "# operators\n",
    "d = a + c\n",
    "print(d)\n",
    "print(a - b)\n",
    "print(a / b)\n",
    "print(a//b)\n",
    "print(a**b)\n",
    "print(a % b)"
   ]
  },
  {
   "cell_type": "code",
   "execution_count": 29,
   "metadata": {},
   "outputs": [
    {
     "name": "stdout",
     "output_type": "stream",
     "text": [
      "this is a string\n"
     ]
    }
   ],
   "source": [
    "# string\n",
    "a =\"this is a string\"\n",
    "print(a)"
   ]
  },
  {
   "cell_type": "code",
   "execution_count": 39,
   "metadata": {},
   "outputs": [
    {
     "name": "stdout",
     "output_type": "stream",
     "text": [
      "4\n",
      "<class 'str'>\n",
      "a\n",
      "asdfjkl\n",
      "<class 'str'>\n"
     ]
    }
   ],
   "source": [
    "# typical string properties:\n",
    "print(len(a))\n",
    "print(type(a))\n",
    "print(a[0])\n",
    "\n",
    "#strings are immutable\n",
    "#a[0] \"aa\" invalid\n",
    "a = \"asdf\" #valid as we are not changing the string\n",
    "b = \"jkl\"\n",
    "c = a + b\n",
    "print(c)\n",
    "#can't do like d = a + 2\n",
    "#no characters\n",
    "print(type('s'))"
   ]
  },
  {
   "cell_type": "code",
   "execution_count": 47,
   "metadata": {},
   "outputs": [
    {
     "name": "stdout",
     "output_type": "stream",
     "text": [
      "ABC\n",
      "Abc\n",
      "abc\n",
      "abcd\n",
      "False\n",
      "  abcd  \n",
      "True\n",
      "True\n"
     ]
    }
   ],
   "source": [
    "# few functions that we can call\n",
    "a = \"Abc\"\n",
    "print(a.upper())\n",
    "print(a)\n",
    "print(a.lower())\n",
    "b = \"  abcd  \"\n",
    "print(b.strip())\n",
    "print(b.isalpha())\n",
    "print(b)\n",
    "b = b.strip()\n",
    "print(a.isalpha())\n",
    "print(b.isalpha())"
   ]
  },
  {
   "cell_type": "code",
   "execution_count": 52,
   "metadata": {},
   "outputs": [
    {
     "name": "stdout",
     "output_type": "stream",
     "text": [
      "12\n",
      "12\n",
      "<class 'str'>\n",
      "12\n",
      "12\n",
      "<class 'int'>\n"
     ]
    }
   ],
   "source": [
    "# user input\n",
    "a = input()\n",
    "print(a)\n",
    "\n",
    "# input func return a string\n",
    "print(type(a))\n",
    "a = int(input())\n",
    "print(a)\n",
    "print(type(a))"
   ]
  },
  {
   "cell_type": "code",
   "execution_count": 53,
   "metadata": {},
   "outputs": [
    {
     "ename": "SyntaxError",
     "evalue": "invalid syntax (<ipython-input-53-fd5f99168ec0>, line 1)",
     "output_type": "error",
     "traceback": [
      "\u001b[0;36m  File \u001b[0;32m\"<ipython-input-53-fd5f99168ec0>\"\u001b[0;36m, line \u001b[0;32m1\u001b[0m\n\u001b[0;31m    a b c = 1000 2000 3000\u001b[0m\n\u001b[0m      ^\u001b[0m\n\u001b[0;31mSyntaxError\u001b[0m\u001b[0;31m:\u001b[0m invalid syntax\n"
     ]
    }
   ],
   "source": [
    "a b c = 1000 2000 3000"
   ]
  },
  {
   "cell_type": "code",
   "execution_count": 58,
   "metadata": {},
   "outputs": [],
   "source": [
    "abc = 1,000,000\n",
    "a,b,c = 1000, 2000, 3000\n",
    "a_b_c = 1,000,000"
   ]
  },
  {
   "cell_type": "code",
   "execution_count": 60,
   "metadata": {},
   "outputs": [
    {
     "ename": "TypeError",
     "evalue": "can only concatenate str (not \"int\") to str",
     "output_type": "error",
     "traceback": [
      "\u001b[0;31m---------------------------------------------------------------------------\u001b[0m",
      "\u001b[0;31mTypeError\u001b[0m                                 Traceback (most recent call last)",
      "\u001b[0;32m<ipython-input-60-e5b2a71e17a0>\u001b[0m in \u001b[0;36m<module>\u001b[0;34m()\u001b[0m\n\u001b[1;32m      1\u001b[0m \u001b[0ms\u001b[0m \u001b[0;34m=\u001b[0m \u001b[0;34m\"abcd\"\u001b[0m\u001b[0;34m\u001b[0m\u001b[0m\n\u001b[0;32m----> 2\u001b[0;31m \u001b[0mprint\u001b[0m\u001b[0;34m(\u001b[0m\u001b[0ms\u001b[0m \u001b[0;34m+\u001b[0m \u001b[0;36m12\u001b[0m\u001b[0;34m)\u001b[0m\u001b[0;34m\u001b[0m\u001b[0m\n\u001b[0m",
      "\u001b[0;31mTypeError\u001b[0m: can only concatenate str (not \"int\") to str"
     ]
    }
   ],
   "source": [
    "s = \"abcd\"\n",
    "print(s + 12)"
   ]
  },
  {
   "cell_type": "code",
   "execution_count": 76,
   "metadata": {},
   "outputs": [
    {
     "name": "stdout",
     "output_type": "stream",
     "text": [
      "a\n",
      "f\n",
      "hg\n",
      "hhgf\n",
      "abcghhgf\n",
      "fghh\n"
     ]
    }
   ],
   "source": [
    "# slicing\n",
    "\n",
    "s = \"abcghhgf\"\n",
    "print(s[0])\n",
    "print(s[-1])\n",
    "print(s[-3:-1])\n",
    "print(s[4:])\n",
    "print(s[:])\n",
    "print(s[-1:-5:-1])"
   ]
  },
  {
   "cell_type": "code",
   "execution_count": 80,
   "metadata": {},
   "outputs": [
    {
     "name": "stdout",
     "output_type": "stream",
     "text": [
      "cd\n",
      "o\n",
      "gh\n"
     ]
    }
   ],
   "source": [
    "print(\"abcd\"[2:])\n",
    "str1 = 'hello'\n",
    "print(str1[-1:])\n",
    "s = \"abcdefghi\"\n",
    "print(s[-3:-1])"
   ]
  },
  {
   "cell_type": "code",
   "execution_count": 88,
   "metadata": {},
   "outputs": [
    {
     "name": "stdout",
     "output_type": "stream",
     "text": [
      "<class 'tuple'>\n",
      "2\n",
      "(1, '2sdf')\n"
     ]
    }
   ],
   "source": [
    "# tuples\n",
    "\n",
    "t = (1,2,3)\n",
    "print(type(t))\n",
    "print(t[1])\n",
    "t = (1,\"2sdf\",2.3)\n",
    "\n",
    "# tuples are also immutable\n",
    "# t[1] = \"12\" #invalid\n",
    "\n",
    "# slicing works on tuples\n",
    "print(t[0:2])\n"
   ]
  },
  {
   "cell_type": "code",
   "execution_count": 93,
   "metadata": {},
   "outputs": [
    {
     "name": "stdout",
     "output_type": "stream",
     "text": [
      "(1, 2, 'd', 1)\n",
      "(1, 2, 1, 2)\n",
      "True\n",
      "False\n"
     ]
    }
   ],
   "source": [
    "# operators on tuples\n",
    "t = (1,2)\n",
    "k = (\"d\",1)\n",
    "print(t+k)\n",
    "print(t*2)\n",
    "print(1 in t)\n",
    "print(2 in k)"
   ]
  },
  {
   "cell_type": "code",
   "execution_count": 94,
   "metadata": {},
   "outputs": [
    {
     "data": {
      "text/plain": [
       "(2, 4)"
      ]
     },
     "execution_count": 94,
     "metadata": {},
     "output_type": "execute_result"
    }
   ],
   "source": [
    "t=(1,2,4,3)\n",
    "t[1:3]"
   ]
  },
  {
   "cell_type": "markdown",
   "metadata": {},
   "source": [
    "## Conditionals & Loops"
   ]
  },
  {
   "cell_type": "code",
   "execution_count": 1,
   "metadata": {},
   "outputs": [
    {
     "ename": "NameError",
     "evalue": "name 'a' is not defined",
     "output_type": "error",
     "traceback": [
      "\u001b[0;31m---------------------------------------------------------------------------\u001b[0m",
      "\u001b[0;31mNameError\u001b[0m                                 Traceback (most recent call last)",
      "\u001b[0;32m<ipython-input-1-bca0e2660b9f>\u001b[0m in \u001b[0;36m<module>\u001b[0;34m()\u001b[0m\n\u001b[0;32m----> 1\u001b[0;31m \u001b[0mprint\u001b[0m\u001b[0;34m(\u001b[0m\u001b[0ma\u001b[0m\u001b[0;34m)\u001b[0m\u001b[0;34m\u001b[0m\u001b[0m\n\u001b[0m",
      "\u001b[0;31mNameError\u001b[0m: name 'a' is not defined"
     ]
    }
   ],
   "source": [
    "# boolean datatype\n",
    "\n",
    "a = True\n",
    "\n",
    "b = False\n"
   ]
  },
  {
   "cell_type": "code",
   "execution_count": null,
   "metadata": {},
   "outputs": [],
   "source": []
  }
 ],
 "metadata": {
  "kernelspec": {
   "display_name": "Python 3",
   "language": "python",
   "name": "python3"
  },
  "language_info": {
   "codemirror_mode": {
    "name": "ipython",
    "version": 3
   },
   "file_extension": ".py",
   "mimetype": "text/x-python",
   "name": "python",
   "nbconvert_exporter": "python",
   "pygments_lexer": "ipython3",
   "version": "3.7.0"
  }
 },
 "nbformat": 4,
 "nbformat_minor": 2
}
