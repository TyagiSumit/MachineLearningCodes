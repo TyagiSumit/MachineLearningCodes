{
 "cells": [
  {
   "cell_type": "markdown",
   "metadata": {},
   "source": [
    "## Intro to Jupyter \n",
    "we can writemarkdown or python code in our cels. you can choose accordingly in the dropdown"
   ]
  },
  {
   "cell_type": "code",
   "execution_count": 16,
   "metadata": {},
   "outputs": [
    {
     "name": "stdout",
     "output_type": "stream",
     "text": [
      "10 12\n"
     ]
    }
   ],
   "source": [
    "#print fucntion\n",
    "a = 10\n",
    "print(a,end=\" \")\n",
    "print(12)"
   ]
  },
  {
   "cell_type": "code",
   "execution_count": 7,
   "metadata": {},
   "outputs": [
    {
     "data": {
      "text/plain": [
       "30"
      ]
     },
     "execution_count": 7,
     "metadata": {},
     "output_type": "execute_result"
    }
   ],
   "source": [
    "#last line is output\n",
    "a = 10\n",
    "a + 201"
   ]
  },
  {
   "cell_type": "code",
   "execution_count": 24,
   "metadata": {},
   "outputs": [
    {
     "name": "stdout",
     "output_type": "stream",
     "text": [
      "<class 'int'> <class 'int'> <class 'complex'>\n"
     ]
    }
   ],
   "source": [
    "#var and type of number\n",
    "a = 12\n",
    "b =10\n",
    "c = 1 + 2j\n",
    "print(type(a),type(a),type(c))"
   ]
  },
  {
   "cell_type": "code",
   "execution_count": 28,
   "metadata": {},
   "outputs": [
    {
     "name": "stdout",
     "output_type": "stream",
     "text": [
      "(13+2j)\n",
      "2\n",
      "1.2\n",
      "1\n",
      "61917364224\n",
      "2\n"
     ]
    }
   ],
   "source": [
    "# operators\n",
    "d = a + c\n",
    "print(d)\n",
    "print(a - b)\n",
    "print(a / b)\n",
    "print(a//b)\n",
    "print(a**b)\n",
    "print(a % b)"
   ]
  },
  {
   "cell_type": "code",
   "execution_count": 29,
   "metadata": {},
   "outputs": [
    {
     "name": "stdout",
     "output_type": "stream",
     "text": [
      "this is a string\n"
     ]
    }
   ],
   "source": [
    "# string\n",
    "a =\"this is a string\"\n",
    "print(a)"
   ]
  },
  {
   "cell_type": "code",
   "execution_count": 39,
   "metadata": {},
   "outputs": [
    {
     "name": "stdout",
     "output_type": "stream",
     "text": [
      "4\n",
      "<class 'str'>\n",
      "a\n",
      "asdfjkl\n",
      "<class 'str'>\n"
     ]
    }
   ],
   "source": [
    "# typical string properties:\n",
    "print(len(a))\n",
    "print(type(a))\n",
    "print(a[0])\n",
    "\n",
    "#strings are immutable\n",
    "#a[0] \"aa\" invalid\n",
    "a = \"asdf\" #valid as we are not changing the string\n",
    "b = \"jkl\"\n",
    "c = a + b\n",
    "print(c)\n",
    "#can't do like d = a + 2\n",
    "#no characters\n",
    "print(type('s'))"
   ]
  },
  {
   "cell_type": "code",
   "execution_count": 47,
   "metadata": {},
   "outputs": [
    {
     "name": "stdout",
     "output_type": "stream",
     "text": [
      "ABC\n",
      "Abc\n",
      "abc\n",
      "abcd\n",
      "False\n",
      "  abcd  \n",
      "True\n",
      "True\n"
     ]
    }
   ],
   "source": [
    "# few functions that we can call\n",
    "a = \"Abc\"\n",
    "print(a.upper())\n",
    "print(a)\n",
    "print(a.lower())\n",
    "b = \"  abcd  \"\n",
    "print(b.strip())\n",
    "print(b.isalpha())\n",
    "print(b)\n",
    "b = b.strip()\n",
    "print(a.isalpha())\n",
    "print(b.isalpha())"
   ]
  },
  {
   "cell_type": "code",
   "execution_count": 52,
   "metadata": {},
   "outputs": [
    {
     "name": "stdout",
     "output_type": "stream",
     "text": [
      "12\n",
      "12\n",
      "<class 'str'>\n",
      "12\n",
      "12\n",
      "<class 'int'>\n"
     ]
    }
   ],
   "source": [
    "# user input\n",
    "a = input()\n",
    "print(a)\n",
    "\n",
    "# input func return a string\n",
    "print(type(a))\n",
    "a = int(input())\n",
    "print(a)\n",
    "print(type(a))"
   ]
  },
  {
   "cell_type": "code",
   "execution_count": 53,
   "metadata": {},
   "outputs": [
    {
     "ename": "SyntaxError",
     "evalue": "invalid syntax (<ipython-input-53-fd5f99168ec0>, line 1)",
     "output_type": "error",
     "traceback": [
      "\u001b[0;36m  File \u001b[0;32m\"<ipython-input-53-fd5f99168ec0>\"\u001b[0;36m, line \u001b[0;32m1\u001b[0m\n\u001b[0;31m    a b c = 1000 2000 3000\u001b[0m\n\u001b[0m      ^\u001b[0m\n\u001b[0;31mSyntaxError\u001b[0m\u001b[0;31m:\u001b[0m invalid syntax\n"
     ]
    }
   ],
   "source": [
    "a b c = 1000 2000 3000"
   ]
  },
  {
   "cell_type": "code",
   "execution_count": 58,
   "metadata": {},
   "outputs": [],
   "source": [
    "abc = 1,000,000\n",
    "a,b,c = 1000, 2000, 3000\n",
    "a_b_c = 1,000,000"
   ]
  },
  {
   "cell_type": "code",
   "execution_count": 60,
   "metadata": {},
   "outputs": [
    {
     "ename": "TypeError",
     "evalue": "can only concatenate str (not \"int\") to str",
     "output_type": "error",
     "traceback": [
      "\u001b[0;31m---------------------------------------------------------------------------\u001b[0m",
      "\u001b[0;31mTypeError\u001b[0m                                 Traceback (most recent call last)",
      "\u001b[0;32m<ipython-input-60-e5b2a71e17a0>\u001b[0m in \u001b[0;36m<module>\u001b[0;34m()\u001b[0m\n\u001b[1;32m      1\u001b[0m \u001b[0ms\u001b[0m \u001b[0;34m=\u001b[0m \u001b[0;34m\"abcd\"\u001b[0m\u001b[0;34m\u001b[0m\u001b[0m\n\u001b[0;32m----> 2\u001b[0;31m \u001b[0mprint\u001b[0m\u001b[0;34m(\u001b[0m\u001b[0ms\u001b[0m \u001b[0;34m+\u001b[0m \u001b[0;36m12\u001b[0m\u001b[0;34m)\u001b[0m\u001b[0;34m\u001b[0m\u001b[0m\n\u001b[0m",
      "\u001b[0;31mTypeError\u001b[0m: can only concatenate str (not \"int\") to str"
     ]
    }
   ],
   "source": [
    "s = \"abcd\"\n",
    "print(s + 12)"
   ]
  },
  {
   "cell_type": "code",
   "execution_count": 76,
   "metadata": {},
   "outputs": [
    {
     "name": "stdout",
     "output_type": "stream",
     "text": [
      "a\n",
      "f\n",
      "hg\n",
      "hhgf\n",
      "abcghhgf\n",
      "fghh\n"
     ]
    }
   ],
   "source": [
    "# slicing\n",
    "\n",
    "s = \"abcghhgf\"\n",
    "print(s[0])\n",
    "print(s[-1])\n",
    "print(s[-3:-1])\n",
    "print(s[4:])\n",
    "print(s[:])\n",
    "print(s[-1:-5:-1])"
   ]
  },
  {
   "cell_type": "code",
   "execution_count": 80,
   "metadata": {},
   "outputs": [
    {
     "name": "stdout",
     "output_type": "stream",
     "text": [
      "cd\n",
      "o\n",
      "gh\n"
     ]
    }
   ],
   "source": [
    "print(\"abcd\"[2:])\n",
    "str1 = 'hello'\n",
    "print(str1[-1:])\n",
    "s = \"abcdefghi\"\n",
    "print(s[-3:-1])"
   ]
  },
  {
   "cell_type": "code",
   "execution_count": 88,
   "metadata": {},
   "outputs": [
    {
     "name": "stdout",
     "output_type": "stream",
     "text": [
      "<class 'tuple'>\n",
      "2\n",
      "(1, '2sdf')\n"
     ]
    }
   ],
   "source": [
    "# tuples\n",
    "\n",
    "t = (1,2,3)\n",
    "print(type(t))\n",
    "print(t[1])\n",
    "t = (1,\"2sdf\",2.3)\n",
    "\n",
    "# tuples are also immutable\n",
    "# t[1] = \"12\" #invalid\n",
    "\n",
    "# slicing works on tuples\n",
    "print(t[0:2])\n"
   ]
  },
  {
   "cell_type": "code",
   "execution_count": 93,
   "metadata": {},
   "outputs": [
    {
     "name": "stdout",
     "output_type": "stream",
     "text": [
      "(1, 2, 'd', 1)\n",
      "(1, 2, 1, 2)\n",
      "True\n",
      "False\n"
     ]
    }
   ],
   "source": [
    "# operators on tuples\n",
    "t = (1,2)\n",
    "k = (\"d\",1)\n",
    "print(t+k)\n",
    "print(t*2)\n",
    "print(1 in t)\n",
    "print(2 in k)"
   ]
  },
  {
   "cell_type": "code",
   "execution_count": 94,
   "metadata": {},
   "outputs": [
    {
     "data": {
      "text/plain": [
       "(2, 4)"
      ]
     },
     "execution_count": 94,
     "metadata": {},
     "output_type": "execute_result"
    }
   ],
   "source": [
    "t=(1,2,4,3)\n",
    "t[1:3]"
   ]
  },
  {
   "cell_type": "markdown",
   "metadata": {},
   "source": [
    "## Conditionals & Loops"
   ]
  },
  {
   "cell_type": "code",
   "execution_count": 2,
   "metadata": {},
   "outputs": [
    {
     "data": {
      "text/plain": [
       "bool"
      ]
     },
     "execution_count": 2,
     "metadata": {},
     "output_type": "execute_result"
    }
   ],
   "source": [
    "# boolean datatype\n",
    "\n",
    "a = True\n",
    "\n",
    "b = False\n",
    "type(a)"
   ]
  },
  {
   "cell_type": "code",
   "execution_count": 5,
   "metadata": {},
   "outputs": [
    {
     "name": "stdout",
     "output_type": "stream",
     "text": [
      "False\n",
      "False\n",
      "True\n",
      "False\n",
      "True\n"
     ]
    }
   ],
   "source": [
    "# Relational operators\n",
    "\n",
    "x = 10\n",
    "y = 20\n",
    "print(x>y)\n",
    "print(x >= y)\n",
    "print(x<y)\n",
    "print(x==y)\n",
    "print(x!=y)"
   ]
  },
  {
   "cell_type": "code",
   "execution_count": 8,
   "metadata": {},
   "outputs": [
    {
     "name": "stdout",
     "output_type": "stream",
     "text": [
      "False\n",
      "True\n"
     ]
    }
   ],
   "source": [
    "# Logical operators\n",
    "x = 10\n",
    "y = 20\n",
    "z = 30\n",
    "print(x > y and x > z)\n",
    "print(x < y or x < z)"
   ]
  },
  {
   "cell_type": "code",
   "execution_count": 10,
   "metadata": {},
   "outputs": [
    {
     "name": "stdout",
     "output_type": "stream",
     "text": [
      "20\n"
     ]
    }
   ],
   "source": [
    "# if else \n",
    "if x > y:\n",
    "    print(x)\n",
    "else:\n",
    "    print(y)"
   ]
  },
  {
   "cell_type": "code",
   "execution_count": 11,
   "metadata": {},
   "outputs": [
    {
     "name": "stdout",
     "output_type": "stream",
     "text": [
      "B\n"
     ]
    }
   ],
   "source": [
    " if (10 < 0) and (0 < -10):\n",
    "     print(\"A\")\n",
    " elif (10 > 0) or False:\n",
    "     print(\"B\")\n",
    " else:\n",
    "    print(\"C\")"
   ]
  },
  {
   "cell_type": "code",
   "execution_count": 14,
   "metadata": {},
   "outputs": [
    {
     "name": "stdout",
     "output_type": "stream",
     "text": [
      "B\n"
     ]
    }
   ],
   "source": [
    "if True or True:\n",
    "    if False and True or False:\n",
    "        print('A')\n",
    "    elif False and False or True and True:\n",
    "       print('B')\n",
    "    else:\n",
    "        print('C')\n",
    "else:\n",
    "     print('D')"
   ]
  },
  {
   "cell_type": "code",
   "execution_count": 19,
   "metadata": {},
   "outputs": [
    {
     "name": "stdout",
     "output_type": "stream",
     "text": [
      "4\n",
      "1 2 3 4 done\n"
     ]
    }
   ],
   "source": [
    "#loops \n",
    "    # while loop\n",
    "n = int(input())\n",
    "i = 1\n",
    "while i<=n:\n",
    "    print(i,end=\" \")\n",
    "    i+=1\n",
    "print(\"done\")"
   ]
  },
  {
   "cell_type": "code",
   "execution_count": 21,
   "metadata": {},
   "outputs": [
    {
     "name": "stdout",
     "output_type": "stream",
     "text": [
      "1\n",
      "2\n",
      "3\n",
      "4\n",
      "5\n",
      "6\n",
      "7\n",
      "8\n",
      "9\n"
     ]
    }
   ],
   "source": [
    "# for loop\n",
    "for i in range(1,10):\n",
    "    print(i)"
   ]
  },
  {
   "cell_type": "code",
   "execution_count": 22,
   "metadata": {},
   "outputs": [
    {
     "name": "stdout",
     "output_type": "stream",
     "text": [
      "7\n",
      "Prime\n"
     ]
    }
   ],
   "source": [
    "# prime number\n",
    "n = int(input())\n",
    "prime = True\n",
    "for i in range(2,n):\n",
    "    if n%i == 0:\n",
    "        prime = False\n",
    "        break;\n",
    "if prime:\n",
    "    print(\"Prime\")\n",
    "else:\n",
    "    print(\"not Prime\")"
   ]
  },
  {
   "cell_type": "code",
   "execution_count": 24,
   "metadata": {},
   "outputs": [
    {
     "name": "stdout",
     "output_type": "stream",
     "text": [
      "a\n",
      "b\n",
      "c\n",
      "d\n",
      "1\n",
      "sdf\n",
      "[1, 2, 3]\n"
     ]
    }
   ],
   "source": [
    "# fast iterations\n",
    "n = \"abcd\"\n",
    "for c in n:\n",
    "    print(c)\n",
    "t = (1,\"sdf\",[1,2,3])\n",
    "for i in t:\n",
    "    print(i)"
   ]
  },
  {
   "cell_type": "code",
   "execution_count": 25,
   "metadata": {},
   "outputs": [
    {
     "name": "stdout",
     "output_type": "stream",
     "text": [
      "0 1 2 "
     ]
    }
   ],
   "source": [
    "i = 0\n",
    "while i < 3:\n",
    "    print(i, end=\" \")\n",
    "    i += 1\n",
    "    "
   ]
  },
  {
   "cell_type": "code",
   "execution_count": 28,
   "metadata": {},
   "outputs": [
    {
     "name": "stdout",
     "output_type": "stream",
     "text": [
      "3\n",
      "4\n",
      "5\n"
     ]
    }
   ],
   "source": [
    "a = 3\n",
    "for i in range(a):\n",
    "    print(a)\n",
    "    a +=1"
   ]
  },
  {
   "cell_type": "code",
   "execution_count": 29,
   "metadata": {},
   "outputs": [
    {
     "name": "stdout",
     "output_type": "stream",
     "text": [
      "a b c d "
     ]
    }
   ],
   "source": [
    "x = 'abcd'\n",
    "for i in x:\n",
    "     print(i, end = \" \")\n",
    "     x.upper()"
   ]
  },
  {
   "cell_type": "code",
   "execution_count": 30,
   "metadata": {},
   "outputs": [
    {
     "name": "stdout",
     "output_type": "stream",
     "text": [
      "abcd\n",
      "a\n",
      "a\n",
      "a\n"
     ]
    }
   ],
   "source": [
    "x = 'abcd'\n",
    "for i in range(len(x)):\n",
    "   print(x)\n",
    "   x = 'a'"
   ]
  },
  {
   "cell_type": "code",
   "execution_count": 60,
   "metadata": {},
   "outputs": [
    {
     "name": "stdout",
     "output_type": "stream",
     "text": [
      "tgrfdedtrew\n"
     ]
    }
   ],
   "source": [
    "a = \"wertdedfrgt\"\n",
    "print(a[-1::-1])"
   ]
  },
  {
   "cell_type": "code",
   "execution_count": 68,
   "metadata": {},
   "outputs": [
    {
     "name": "stdout",
     "output_type": "stream",
     "text": [
      "30\n"
     ]
    }
   ],
   "source": [
    "# function\n",
    "def sum(a, b):\n",
    "    z = a+b\n",
    "    return z\n",
    "\n",
    "x = 20\n",
    "y = 10\n",
    "print(sum(x,y))"
   ]
  },
  {
   "cell_type": "code",
   "execution_count": 74,
   "metadata": {},
   "outputs": [
    {
     "data": {
      "text/plain": [
       "144"
      ]
     },
     "execution_count": 74,
     "metadata": {},
     "output_type": "execute_result"
    }
   ],
   "source": [
    "#default arguments\n",
    "def power(x,y =2):\n",
    "    return x**y\n",
    "n = 10\n",
    "e = 4\n",
    "power(12)"
   ]
  },
  {
   "cell_type": "code",
   "execution_count": 80,
   "metadata": {},
   "outputs": [
    {
     "name": "stdout",
     "output_type": "stream",
     "text": [
      "13\n"
     ]
    }
   ],
   "source": [
    "def sum3(a , b = 1,c = 2):\n",
    "    return a + b + c\n",
    "print(sum3(a = 10))"
   ]
  },
  {
   "cell_type": "code",
   "execution_count": 87,
   "metadata": {},
   "outputs": [
    {
     "data": {
      "text/plain": [
       "68"
      ]
     },
     "execution_count": 87,
     "metadata": {},
     "output_type": "execute_result"
    }
   ],
   "source": [
    "# variable size input and output\n",
    "#input\n",
    "def sum_variable(a, b, *more):\n",
    "    sum = a + b\n",
    "    for i in more:\n",
    "        sum += i\n",
    "    return sum\n",
    "sum_variable(10,23,34,1)"
   ]
  },
  {
   "cell_type": "code",
   "execution_count": 88,
   "metadata": {},
   "outputs": [
    {
     "name": "stdout",
     "output_type": "stream",
     "text": [
      "(22, -2)\n",
      "22 -2\n"
     ]
    }
   ],
   "source": [
    "# return more than 1 value\n",
    "def dummy(a, b):\n",
    "    return a + b, a - b\n",
    "print(dummy(10,12))\n",
    "sum1, diffrence = dummy(10,12)\n",
    "print(sum1,diffrence)"
   ]
  },
  {
   "cell_type": "code",
   "execution_count": 90,
   "metadata": {},
   "outputs": [
    {
     "name": "stdout",
     "output_type": "stream",
     "text": [
      "4  is maximum\n"
     ]
    }
   ],
   "source": [
    "def printMax(a, b):\n",
    "    if a > b:\n",
    "       print(a, ' is maximum')\n",
    "    elif a == b:\n",
    "       print(a,  'is equal to', b)\n",
    "    else:\n",
    "      print(b, ' is maximum')\n",
    "printMax(3, 4)"
   ]
  },
  {
   "cell_type": "code",
   "execution_count": 91,
   "metadata": {},
   "outputs": [
    {
     "name": "stdout",
     "output_type": "stream",
     "text": [
      "50\n"
     ]
    }
   ],
   "source": [
    "x = 50\n",
    "def change(x):\n",
    "     x = 2\n",
    "change(x)\n",
    "print(x)"
   ]
  },
  {
   "cell_type": "code",
   "execution_count": 92,
   "metadata": {},
   "outputs": [
    {
     "name": "stdout",
     "output_type": "stream",
     "text": [
      "9 27\n"
     ]
    }
   ],
   "source": [
    "def power(x, y=2):\n",
    "      ans = 1\n",
    "      for i in range(y):\n",
    "          ans = ans * x\n",
    "      return ans\n",
    "print(power(3), end=\" \")\n",
    "print(power(3,3))"
   ]
  },
  {
   "cell_type": "markdown",
   "metadata": {},
   "source": [
    "## Lists"
   ]
  },
  {
   "cell_type": "code",
   "execution_count": 9,
   "metadata": {},
   "outputs": [
    {
     "name": "stdout",
     "output_type": "stream",
     "text": [
      "<class 'list'>\n",
      "[]\n",
      "[1, 2, 3]\n"
     ]
    },
    {
     "data": {
      "text/plain": [
       "[1, 2, 'as', True]"
      ]
     },
     "execution_count": 9,
     "metadata": {},
     "output_type": "execute_result"
    }
   ],
   "source": [
    "a = [1,2,3]\n",
    "print(type(a))\n",
    "a1 = list()\n",
    "print(a1)\n",
    "a2 = list(a)\n",
    "print(a2)\n",
    "a3 = [ i for i in range(10)]\n",
    "\n",
    "a4 = [1,2,\"as\",True]\n",
    "a4"
   ]
  },
  {
   "cell_type": "code",
   "execution_count": 10,
   "metadata": {},
   "outputs": [
    {
     "name": "stdout",
     "output_type": "stream",
     "text": [
      " 12 23 2 \n"
     ]
    },
    {
     "data": {
      "text/plain": [
       "['12', '23', '2']"
      ]
     },
     "execution_count": 10,
     "metadata": {},
     "output_type": "execute_result"
    }
   ],
   "source": [
    "l = [i for i in input().strip().split()]\n",
    "l"
   ]
  },
  {
   "cell_type": "code",
   "execution_count": 12,
   "metadata": {},
   "outputs": [
    {
     "data": {
      "text/plain": [
       "5"
      ]
     },
     "execution_count": 12,
     "metadata": {},
     "output_type": "execute_result"
    }
   ],
   "source": [
    "l = list(\"hello\")\n",
    "len(l)"
   ]
  },
  {
   "cell_type": "code",
   "execution_count": 36,
   "metadata": {},
   "outputs": [
    {
     "name": "stdout",
     "output_type": "stream",
     "text": [
      "[1, 'wee', 3, 2]\n",
      "[1, 'as', 'wee', 3, 2]\n",
      "[1, 'as', 'wee', 3, 2, 1, 2, 3]\n"
     ]
    }
   ],
   "source": [
    "# add elements in list\n",
    "l = [1,\"wee\",3]\n",
    "l.append(2)\n",
    "print(l)\n",
    "l.insert(1,\"as\")\n",
    "print(l)\n",
    "l.extend([1,2,3])\n",
    "print(l)\n"
   ]
  },
  {
   "cell_type": "code",
   "execution_count": 37,
   "metadata": {},
   "outputs": [
    {
     "name": "stdout",
     "output_type": "stream",
     "text": [
      "[1, 'as', 'wee', 3, 2, 1, 2]\n",
      "[1, 'as', 3, 2, 1, 2]\n",
      "[1, 'as', 2, 1, 2]\n"
     ]
    }
   ],
   "source": [
    "# deleting elements\n",
    "l.pop() #remove last element\n",
    "print(l)\n",
    "l.pop(2) #remove element at pos 2\n",
    "print(l)\n",
    "l.remove(3) #remove a particular element\n",
    "print(l)"
   ]
  },
  {
   "cell_type": "code",
   "execution_count": 34,
   "metadata": {},
   "outputs": [
    {
     "name": "stdout",
     "output_type": "stream",
     "text": [
      "['wee', 3, 2, 1, 2, 3]\n"
     ]
    }
   ],
   "source": [
    "del l[0:2]\n",
    "print(l)"
   ]
  },
  {
   "cell_type": "code",
   "execution_count": 39,
   "metadata": {},
   "outputs": [
    {
     "data": {
      "text/plain": [
       "[1, 'as', 2, 1, 2, 1, 'as', 2, 1, 2]"
      ]
     },
     "execution_count": 39,
     "metadata": {},
     "output_type": "execute_result"
    }
   ],
   "source": [
    "l + l\n",
    "# we can't add int to list\n",
    "# multiplication with list is fine\n"
   ]
  },
  {
   "cell_type": "code",
   "execution_count": 44,
   "metadata": {},
   "outputs": [
    {
     "name": "stdout",
     "output_type": "stream",
     "text": [
      "[1, 2, 3, 4, 5, 6, 9]\n",
      "1\n",
      "3\n",
      "[9, 6, 5, 4, 3, 2, 1]\n",
      "True\n"
     ]
    }
   ],
   "source": [
    "l = [2,3,4,6,1,5,9]\n",
    "l.sort()\n",
    "print(l)\n",
    "print(l.count(2))\n",
    "print(l.index(4))\n",
    "l.reverse()\n",
    "print(l)\n",
    "print(3 in l)\n"
   ]
  },
  {
   "cell_type": "code",
   "execution_count": 45,
   "metadata": {},
   "outputs": [
    {
     "name": "stdout",
     "output_type": "stream",
     "text": [
      "abc\n"
     ]
    }
   ],
   "source": [
    "aList = [123, 'xyz', 'zara', 'abc']\n",
    "print(aList.pop())"
   ]
  },
  {
   "cell_type": "markdown",
   "metadata": {},
   "source": [
    "## Dictionary\n"
   ]
  },
  {
   "cell_type": "code",
   "execution_count": 20,
   "metadata": {},
   "outputs": [
    {
     "name": "stdout",
     "output_type": "stream",
     "text": [
      "{23: 34, 'str': 345}\n",
      "{23: 'efr', 'ert': 222, 33: 'frgtrfedfr'}\n",
      "{23: 345, 'ert': 222, 33: 'frgtrfedfr'}\n"
     ]
    }
   ],
   "source": [
    "# key value\n",
    "d = {}\n",
    "d[23] = 34\n",
    "d[\"str\"] = 345\n",
    "print(d)\n",
    "d = {23:\"efr\",\"ert\":222,33:\"frgtrfedfr\"}\n",
    "print(d)\n",
    "d[23] = 345\n",
    "print(d)"
   ]
  },
  {
   "cell_type": "code",
   "execution_count": 21,
   "metadata": {},
   "outputs": [
    {
     "name": "stdout",
     "output_type": "stream",
     "text": [
      "23 :345\n",
      "ert :222\n",
      "33 :frgtrfedfr\n"
     ]
    }
   ],
   "source": [
    "#keys are immutable\n",
    "# strinig, int, float, tuple but not list  or dictionary\n",
    "for i in d:\n",
    "    print(i,\":\",end=\"\")\n",
    "    print(d[i])"
   ]
  },
  {
   "cell_type": "code",
   "execution_count": 11,
   "metadata": {},
   "outputs": [],
   "source": [
    "del d[23]"
   ]
  },
  {
   "cell_type": "code",
   "execution_count": 23,
   "metadata": {},
   "outputs": [
    {
     "name": "stdout",
     "output_type": "stream",
     "text": [
      "True\n",
      "False\n",
      "1\n",
      "{}\n",
      "dict_keys([23, 'ert', 33])\n",
      "False\n"
     ]
    }
   ],
   "source": [
    "d1 = {}\n",
    "d2 = {}\n",
    "print(d1 == d2)\n",
    "d1[2] = 1\n",
    "print(d1 == d2)\n",
    "print(len(d1))\n",
    "d1.clear()\n",
    "print(d1)\n",
    "print(d.keys())\n",
    "print(23 in d2)\n"
   ]
  },
  {
   "cell_type": "code",
   "execution_count": 25,
   "metadata": {},
   "outputs": [
    {
     "data": {
      "text/plain": [
       "False"
      ]
     },
     "execution_count": 25,
     "metadata": {},
     "output_type": "execute_result"
    }
   ],
   "source": [
    "d1 = {\"john\":40, \"peter\":45}\n",
    "d2 = {\"john\":466, \"peter\":45}\n",
    "d1 == d2"
   ]
  },
  {
   "cell_type": "markdown",
   "metadata": {},
   "source": [
    "## 2D Lists\n"
   ]
  },
  {
   "cell_type": "code",
   "execution_count": 28,
   "metadata": {},
   "outputs": [
    {
     "name": "stdout",
     "output_type": "stream",
     "text": [
      "[[1, 2, 3], [4, 5, 6]]\n",
      "[1, 2, 3]\n",
      "2\n"
     ]
    }
   ],
   "source": [
    "l =[[1,2,3],[4,5,6]]\n",
    "print(l)\n",
    "print(l[0])\n",
    "print(l[0][1])"
   ]
  },
  {
   "cell_type": "code",
   "execution_count": 31,
   "metadata": {},
   "outputs": [
    {
     "data": {
      "text/plain": [
       "[[0, 1, 2, 3, 4],\n",
       " [5, 6, 7, 8, 9],\n",
       " [10, 11, 12, 13, 14],\n",
       " [15, 16, 17, 18, 19],\n",
       " [20, 21, 22, 23, 24],\n",
       " [25, 26, 27, 28, 29],\n",
       " [30, 31, 32, 33, 34],\n",
       " [35, 36, 37, 38, 39],\n",
       " [40, 41, 42, 43, 44],\n",
       " [45, 46, 47, 48, 49]]"
      ]
     },
     "execution_count": 31,
     "metadata": {},
     "output_type": "execute_result"
    }
   ],
   "source": [
    "l2D = [[0,0,0] for i in range(10)]\n",
    "l2D1 = [[5*i + j for j in range(5)] for i in range(10)]\n",
    "l2D1"
   ]
  },
  {
   "cell_type": "code",
   "execution_count": null,
   "metadata": {},
   "outputs": [],
   "source": [
    "hgcv"
   ]
  }
 ],
 "metadata": {
  "kernelspec": {
   "display_name": "Python 3",
   "language": "python",
   "name": "python3"
  },
  "language_info": {
   "codemirror_mode": {
    "name": "ipython",
    "version": 3
   },
   "file_extension": ".py",
   "mimetype": "text/x-python",
   "name": "python",
   "nbconvert_exporter": "python",
   "pygments_lexer": "ipython3",
   "version": "3.7.0"
  }
 },
 "nbformat": 4,
 "nbformat_minor": 2
}
