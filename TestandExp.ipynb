{
 "cells": [
  {
   "cell_type": "code",
   "execution_count": 165,
   "metadata": {},
   "outputs": [],
   "source": [
    "from sklearn import datasets\n",
    "import numpy as np\n",
    "import pandas as pd\n",
    "from sklearn.model_selection import train_test_split"
   ]
  },
  {
   "cell_type": "code",
   "execution_count": 166,
   "metadata": {},
   "outputs": [],
   "source": [
    "dataset = datasets.load_breast_cancer()"
   ]
  },
  {
   "cell_type": "code",
   "execution_count": 167,
   "metadata": {},
   "outputs": [],
   "source": [
    "x = np.array([[1,2,3,4],[4,5,6,1],[7,8,9,3]])"
   ]
  },
  {
   "cell_type": "code",
   "execution_count": 168,
   "metadata": {},
   "outputs": [],
   "source": [
    "y = np.array([[4,1,12,1],[0,2,5,3],[2,1,7,6]])\n",
    "ytrain = [1,0,1]"
   ]
  },
  {
   "cell_type": "code",
   "execution_count": 169,
   "metadata": {},
   "outputs": [
    {
     "name": "stdout",
     "output_type": "stream",
     "text": [
      "143 143\n"
     ]
    }
   ],
   "source": [
    "dataset = datasets.load_breast_cancer()\n",
    "\n",
    "X_train, X_test, Y_train, Y_test = train_test_split(dataset.data, dataset.target, random_state=1)\n",
    "print(len(Y_test),len(X_test))"
   ]
  },
  {
   "cell_type": "code",
   "execution_count": 143,
   "metadata": {},
   "outputs": [],
   "source": [
    "xdf = pd.DataFrame(data = x)\n",
    "ydf = pd.DataFrame(data = y)"
   ]
  },
  {
   "cell_type": "code",
   "execution_count": 145,
   "metadata": {},
   "outputs": [],
   "source": [
    "def distancepd(xtest, xtrain):\n",
    "    dist = []\n",
    "    for i in range(len(xtest)):\n",
    "        dist.append(((((xtest.iloc[i,:-1] - xtrain.iloc[i,:-1])**2)).sum())**0.5)\n",
    "        #print(xtest.iloc[i,:] - xtrain[i,:-1])\n",
    "    return dist"
   ]
  },
  {
   "cell_type": "code",
   "execution_count": 170,
   "metadata": {},
   "outputs": [],
   "source": [
    "def distancenp(xtest, xtrain):\n",
    "    dist = []\n",
    "    for i in range(len(xtrain)):\n",
    "        dist.append(((((xtest - xtrain[i])**2)).sum())**0.5)\n",
    "        #print(xtest.iloc[i,:] - xtrain[i,:-1])\n",
    "    return dist"
   ]
  },
  {
   "cell_type": "code",
   "execution_count": 171,
   "metadata": {},
   "outputs": [],
   "source": [
    "def predict(xtest, xtrain, ytrain, n_nib = 3):\n",
    "    y_pred = []\n",
    "    for i in range(len(xtest)):\n",
    "        dist = distancenp(xtest[i], xtrain)\n",
    "        dist = np.array(dist)\n",
    "        dist = dist.argsort()[::-1]\n",
    "        dist = dist[:n_nib]\n",
    "        tentative_classes = np.take(ytrain, dist)\n",
    "        counts = np.bincount(tentative_classes)\n",
    "        pred_class = np.argmax(counts)\n",
    "        y_pred.append(pred_class)\n",
    "    return y_pred"
   ]
  },
  {
   "cell_type": "code",
   "execution_count": 172,
   "metadata": {},
   "outputs": [
    {
     "name": "stdout",
     "output_type": "stream",
     "text": [
      "143\n"
     ]
    }
   ],
   "source": [
    "y_pred = predict(X_test, X_train, Y_train)\n",
    "print(len(y_pred))"
   ]
  },
  {
   "cell_type": "code",
   "execution_count": 173,
   "metadata": {},
   "outputs": [
    {
     "data": {
      "image/png": "[encoded data removed]",
      "text/plain": [
       "<Figure size 432x288 with 1 Axes>"
      ]
     },
     "metadata": {
      "needs_background": "light"
     },
     "output_type": "display_data"
    }
   ],
   "source": [
    "import matplotlib.pyplot as plt\n",
    "plt.scatter(y_pred, Y_test)\n",
    "plt.show()"
   ]
  },
  {
   "cell_type": "code",
   "execution_count": null,
   "metadata": {},
   "outputs": [],
   "source": []
  }
 ],
 "metadata": {
  "kernelspec": {
   "display_name": "Python 3",
   "language": "python",
   "name": "python3"
  },
  "language_info": {
   "codemirror_mode": {
    "name": "ipython",
    "version": 3
   },
   "file_extension": ".py",
   "mimetype": "text/x-python",
   "name": "python",
   "nbconvert_exporter": "python",
   "pygments_lexer": "ipython3",
   "version": "3.6.6"
  }
 },
 "nbformat": 4,
 "nbformat_minor": 2
}
